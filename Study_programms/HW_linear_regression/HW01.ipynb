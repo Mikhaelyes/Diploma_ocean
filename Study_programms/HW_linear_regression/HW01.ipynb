{
 "cells": [
  {
   "cell_type": "markdown",
   "metadata": {},
   "source": [
    "# ДЗ №1 - обучение модели линейной регресии методом градиентного спуска"
   ]
  },
  {
   "cell_type": "markdown",
   "metadata": {},
   "source": [
    "Реализовать обучение модели \"нейросети\" (в варианте линейной регрессии) методом градиентного спуска.<br />\n",
    "\n",
    "В качестве подводящего упражнения в этом задании предлагается реализовать функции потерь и саму модель \"нейросети\" (линейной регрессии) в манере, схожей с построением модулей фреймворка pytorch (см. пояснения в шаблонах кода)\n",
    "\n",
    "В решении ожидается наличие следующих ключевых составляющих:<br />\n",
    "\n",
    "#### Текстовое описание в решении:\n",
    "- формулировка задачи, формулировка признакового описания объектов, формулировка функции ошибки;\n",
    "- исследование исходных данных на предмет скоррелированности признаков; фильтрация признаков; порождение признаков (при необходимости);\n",
    "- оценка параметров модели линейной регрессии (обучение модели) методом градиентного спуска;\n",
    "\n",
    "#### Код решения:\n",
    "(используйте предлагаемые шаблоны)\n",
    "- формулировка всех составляющих модели \"нейросети\";\n",
    "- формулировка модели \"нейросети\" - `NN` (линейной регрессии);\n",
    "- формулировка функции ошибки вместе с ее составляющими (например, класс отклонения `Residual`);\n",
    "- формулировка цикла оптимизации параметров.\n",
    "\n",
    "\n",
    "#### Визуализация в решении:\n",
    "- распределения признаков;\n",
    "- распределение целевой переменной;\n",
    "- эволюция функции ошибки и выбранных метрик качества по ходу обучения.\n",
    "- диаграмма соответствия измеренной целевой переменной и значений целевой переменной, оцененной с использованием обученной \"нейросети\"\n",
    "\n",
    "#### Выводы (в форме текста!)\n",
    "- вывод о том, насколько модель подходит для описания данных\n",
    "- вывод о достаточности или избыточности данных для оценки параметров модели\n",
    "- вывод о соотношении выразительности модели и ее обобщающей способности (наблюдаются ли явления переобучения или недообучения).\n",
    "\n",
    "Примечания:<br />\n",
    "Допустимо порождение признаков (полиномиальных, экспоненциальных, логарифмических, etc.)<br />\n",
    "Реализация линейной регрессии может быть написана только с использованием библиотеки Numpy. Решения с использованием библиотек автоматического вычисления градиентов не засчитываются.<br />\n",
    "Из готовых реализаций (напр., из пакета scikit-learn) в этом задании допускается использовать только порождение полиномиальных признаков `PolynomialFeatures`."
   ]
  },
  {
   "cell_type": "raw",
   "metadata": {},
   "source": []
  },
  {
   "cell_type": "markdown",
   "metadata": {},
   "source": [
    "Данные находятся в следующих файлах:\n",
    "\n",
    "Признаковое описание объектов обучающей выборки - в файле X_train.npy\n",
    "\n",
    "Значения целевой переменной на обучающей выборке - в файле y_train.npy"
   ]
  },
  {
   "cell_type": "markdown",
   "metadata": {},
   "source": [
    "Способ чтения данных из файлов *.npy :\n",
    "\n",
    "```\n",
    "import numpy as np\n",
    "data = np.load('/path/to/filename.npy')\n",
    "```"
   ]
  },
  {
   "cell_type": "raw",
   "metadata": {},
   "source": []
  },
  {
   "cell_type": "markdown",
   "metadata": {},
   "source": [
    "### Примечание на предмет реализации градиента функции потерь\n",
    "\n",
    "Нелишним будет вспомнить способ вычисления градиента сложной функции. Здесь функция ошибки (обозначено как $\\mathscr{L}$) представлена как сложная функция $\\mathscr{L}\\left( G\\left( \\theta \\right) \\right)$. Для простоты приведена сразу матричная запись. По ней можно сверить свой результат.\n",
    "\n",
    "$$\n",
    "\\nabla_{\\theta}{\\mathscr{L}} = \\nabla_{G}{\\mathscr{L}}\\cdot\\nabla_{\\theta}{G}\n",
    "$$\n",
    "\n",
    "В качестве шпаргалки можно подсмотреть правила матричного дифференцирования <a href=\"https://www.math.uwaterloo.ca/~hwolkowi/matrixcookbook.pdf\">здесь</a>\n",
    "\n",
    "Например, в случае функции потерь MSE это может выглядеть следующим образом:\n",
    "\n",
    "$$\n",
    "\\nabla_{\\theta}{\\mathscr{L}} = 2\\left(X\\theta - Y\\right) \\cdot \\mathbf{I} \\cdot X\n",
    "$$\n",
    "\n",
    "В этом ДЗ следует очень аккуратно реализовать градиент каждой отдельной операции по аргументу этой операции:\n",
    "- градиент квадрата отклонения $d^2$ - по отклонению $d$\n",
    "- градиент отклонения $\\left(\\hat{y}-y\\right)$ - по аргументу $\\hat{y}$\n",
    "- градиент функции активации $\\hat{y}=A\\left(z\\right)$ - по ее агрументу $z$ (да, здесь функция активации $A$ - Identity, но это сейчас не так важно)\n",
    "- градиент оценки $z=\\theta^T\\cdot X$ - по аргументу $\\theta$\n",
    "\n",
    "**ВНИМАНИЕ**\n",
    "В этом задании также следует учесть, что подразумевается, что метод `backward` каждого класса выдает градиент **функции ошибки** по аргументу операции. Для учета градиентов всех предыдущих операций в этот метод передается т.н. **upstream gradient** - переменная `usg`. Не забывайте ее передавать при \"сборке\" полного градиента. Эта \"сборка\" у вас будет в двух классах - классе функции потерь `MSE` (нужно собрать градиент операции `MSE` с учетом того, что она, в свою очередь, сложная функция, использующая `Residual`) и классе нейросети `NN`.\n",
    "\n",
    "Как можно видеть, все операции, из которых составляется \"нейросеть\" в этом задании, могут быть представлены однотипно: для всех из них можно задать метод вычисления `forward` на \"прямом проходе\" и метод вычисления градиента `backward` на этапе вычисления градиентов, \"обратном проходе\".\n",
    "\n",
    "**ВНИМАНИЕ**\n",
    "Не следует забывать, что для вычисления градиентов обычно используются результаты операции, вычисленные на этапе \"прямого прохода\". Для хранения этих результатов используйте атрибуты класса `cache`. Напомним, ссылка на сам экземпляр класса в теле метода класса обычно упоминается как `self`. То есть, атрибут `cache` этого экземпляра класса будет в этом методе упоминаться как `self.cache`. Вы можете назвать его как угодно (не обязательно именно `cache`), но реализация хранения промежуточных результатов вычисления нейросети - **обязательно** в этом ДЗ."
   ]
  },
  {
   "cell_type": "code",
   "execution_count": null,
   "metadata": {},
   "outputs": [],
   "source": []
  },
  {
   "cell_type": "code",
   "execution_count": 1,
   "metadata": {},
   "outputs": [],
   "source": [
    "import numpy as np\n",
    "from tqdm import tqdm"
   ]
  },
  {
   "cell_type": "code",
   "execution_count": 2,
   "metadata": {},
   "outputs": [],
   "source": [
    "%matplotlib inline"
   ]
  },
  {
   "cell_type": "code",
   "execution_count": 3,
   "metadata": {},
   "outputs": [],
   "source": [
    "import matplotlib.pyplot as plt"
   ]
  },
  {
   "cell_type": "code",
   "execution_count": 4,
   "metadata": {},
   "outputs": [],
   "source": [
    "Xtr = np.load('./X_train.npy')\n",
    "ytr = np.load('./y_train.npy')"
   ]
  },
  {
   "cell_type": "code",
   "execution_count": 5,
   "metadata": {},
   "outputs": [
    {
     "data": {
      "text/plain": [
       "(10000, 1)"
      ]
     },
     "execution_count": 5,
     "metadata": {},
     "output_type": "execute_result"
    }
   ],
   "source": [
    "ytr.shape"
   ]
  },
  {
   "cell_type": "code",
   "execution_count": 6,
   "metadata": {},
   "outputs": [
    {
     "data": {
      "text/plain": [
       "(10000, 4)"
      ]
     },
     "execution_count": 6,
     "metadata": {},
     "output_type": "execute_result"
    }
   ],
   "source": [
    "Xtr.shape"
   ]
  },
  {
   "cell_type": "code",
   "execution_count": 7,
   "metadata": {},
   "outputs": [
    {
     "data": {
      "text/plain": [
       "<matplotlib.collections.PathCollection at 0x7182b444f690>"
      ]
     },
     "execution_count": 7,
     "metadata": {},
     "output_type": "execute_result"
    },
    {
     "data": {
      "image/png": "[encoded data removed]",
      "text/plain": [
       "<Figure size 640x480 with 1 Axes>"
      ]
     },
     "metadata": {},
     "output_type": "display_data"
    }
   ],
   "source": [
    "plt.scatter(Xtr[:,0], ytr, s=1)"
   ]
  },
  {
   "cell_type": "code",
   "execution_count": 8,
   "metadata": {},
   "outputs": [
    {
     "data": {
      "text/plain": [
       "<matplotlib.collections.PathCollection at 0x7182b4536d10>"
      ]
     },
     "execution_count": 8,
     "metadata": {},
     "output_type": "execute_result"
    },
    {
     "data": {
      "image/png": "[encoded data removed]",
      "text/plain": [
       "<Figure size 640x480 with 1 Axes>"
      ]
     },
     "metadata": {},
     "output_type": "display_data"
    }
   ],
   "source": [
    "plt.scatter(Xtr[:,1], ytr, s=1)"
   ]
  },
  {
   "cell_type": "code",
   "execution_count": 9,
   "metadata": {
    "scrolled": true
   },
   "outputs": [
    {
     "data": {
      "text/plain": [
       "<matplotlib.collections.PathCollection at 0x7182b4264b90>"
      ]
     },
     "execution_count": 9,
     "metadata": {},
     "output_type": "execute_result"
    },
    {
     "data": {
      "image/png": "[encoded data removed]",
      "text/plain": [
       "<Figure size 640x480 with 1 Axes>"
      ]
     },
     "metadata": {},
     "output_type": "display_data"
    }
   ],
   "source": [
    "plt.scatter(Xtr[:,2], ytr, s=1)"
   ]
  },
  {
   "cell_type": "code",
   "execution_count": null,
   "metadata": {},
   "outputs": [],
   "source": []
  },
  {
   "cell_type": "code",
   "execution_count": 10,
   "metadata": {
    "scrolled": true
   },
   "outputs": [
    {
     "data": {
      "text/plain": [
       "<matplotlib.collections.PathCollection at 0x7182b4321ad0>"
      ]
     },
     "execution_count": 10,
     "metadata": {},
     "output_type": "execute_result"
    },
    {
     "data": {
      "image/png": "[encoded data removed]",
      "text/plain": [
       "<Figure size 640x480 with 1 Axes>"
      ]
     },
     "metadata": {},
     "output_type": "display_data"
    }
   ],
   "source": [
    "plt.scatter(Xtr[:,3], ytr, s=1)"
   ]
  },
  {
   "cell_type": "code",
   "execution_count": 11,
   "metadata": {},
   "outputs": [
    {
     "data": {
      "text/plain": [
       "array([[1.        , 0.99930832, 0.00924955, 0.88100664],\n",
       "       [0.99930832, 1.        , 0.0096915 , 0.88030952],\n",
       "       [0.00924955, 0.0096915 , 1.        , 0.01899396],\n",
       "       [0.88100664, 0.88030952, 0.01899396, 1.        ]])"
      ]
     },
     "execution_count": 11,
     "metadata": {},
     "output_type": "execute_result"
    }
   ],
   "source": [
    "np.corrcoef(Xtr, rowvar=False)"
   ]
  },
  {
   "cell_type": "markdown",
   "metadata": {},
   "source": [
    "<span style=\"color:orange\">\n",
    "    \n",
    "### Решение о признаках ###\n",
    "3 признак надо убрать, так как неоднозначность зависимости y от x. </br>\n",
    "Первые 2 признака сильно скоррелированы 1 можно убрать."
   ]
  },
  {
   "cell_type": "code",
   "execution_count": 12,
   "metadata": {},
   "outputs": [],
   "source": [
    "# Примите решение о фильтрации признаков или порождении новых признаков\n",
    "# Xtr1 = Xtr[:,[1,3]] "
   ]
  },
  {
   "cell_type": "code",
   "execution_count": 13,
   "metadata": {},
   "outputs": [],
   "source": [
    "# Xtr1.shape"
   ]
  },
  {
   "cell_type": "code",
   "execution_count": 14,
   "metadata": {},
   "outputs": [],
   "source": [
    "# print(Xtr1)"
   ]
  },
  {
   "cell_type": "code",
   "execution_count": 15,
   "metadata": {},
   "outputs": [],
   "source": [
    "# np.corrcoef(Xtr1, rowvar=False)"
   ]
  },
  {
   "cell_type": "code",
   "execution_count": 267,
   "metadata": {},
   "outputs": [],
   "source": [
    "class Differentiable:\n",
    "    def __init__(self):\n",
    "        pass\n",
    "\n",
    "    \n",
    "    def forward(self, *args, **kwargs):\n",
    "        raise NotImplementedError()\n",
    "\n",
    "    \n",
    "    def backward(self, **kwargs):\n",
    "        raise NotImplementedError()"
   ]
  },
  {
   "cell_type": "code",
   "execution_count": 268,
   "metadata": {},
   "outputs": [],
   "source": [
    "class linear(Differentiable):\n",
    "    def __init__(self):\n",
    "        super(linear, self).__init__()\n",
    "        self.theta = None\n",
    "        self.cache = None\n",
    "\n",
    "    \n",
    "    def __call__(self, X):\n",
    "        # этот метод предназначен для вычисления значения целевой переменной\n",
    "        return self.forward(X)\n",
    "\n",
    "    \n",
    "    def forward(self, X):\n",
    "        # этот метод предназначен для применения модели к данным\n",
    "        assert X.ndim == 2, \"X should be 2-dimensional: (N of objects, n of features)\"\n",
    "\n",
    "        # ВНИМАНИЕ! Матрица объекты-признаки X не включает смещение\n",
    "        #           Вектор единиц для применения смещения нужно присоединить самостоятельно!\n",
    "        \n",
    "        ### YOUR CODE HERE\n",
    "        # X_ = ...\n",
    "        \n",
    "        if (self.theta is None):\n",
    "            # Если вектор параметров еще не инициализирован, его следует инициализировать\n",
    "            # Подсказка: длина вектора параметров может быть получена из размера матрицы X\n",
    "            # Fx1.T dot NxF.T = 1xN\n",
    "            # Если X - матрица объекты-признаки, то это матрица из вектор-строк!\n",
    "            self.theta = np.matrix(np.random.uniform(-1, 1, Xtr.shape[1] + 1))\n",
    "        \n",
    "        \n",
    "        # Здесь следует собственно применить модель к входным данным\n",
    "        \n",
    "        ### YOUR CODE HERE\n",
    "        # print(self.theta[:,-1], X.shape[1])\n",
    "        mu = np.dot(self.theta[:,:-1], np.transpose(X)) + self.theta[:,-1]\n",
    "        self.cache = X\n",
    "        \n",
    "        return mu\n",
    "\n",
    "    \n",
    "    def backward(self, usg):\n",
    "        # Этот метод реализует вычисление компоненты градиента функции потерь\n",
    "        \n",
    "        assert self.cache is not None, \"please perform forward pass first\"\n",
    "        \n",
    "        ### YOUR CODE HERE\n",
    "        partial_grad = np.column_stack((self.cache, np.array([1] * self.cache.shape[0])))\n",
    "        partial_grad = np.matmul(usg, partial_grad)\n",
    "        \n",
    "        # Не забудьте очистить кэш!\n",
    "        self.cache = None\n",
    "        \n",
    "        return partial_grad"
   ]
  },
  {
   "cell_type": "code",
   "execution_count": 269,
   "metadata": {},
   "outputs": [
    {
     "data": {
      "text/plain": [
       "array([[-1,  0,  0],\n",
       "       [ 0, -1,  0],\n",
       "       [ 0,  0, -1]])"
      ]
     },
     "execution_count": 269,
     "metadata": {},
     "output_type": "execute_result"
    }
   ],
   "source": [
    "np.diag([-1]*3, k=0)"
   ]
  },
  {
   "cell_type": "code",
   "execution_count": 270,
   "metadata": {},
   "outputs": [],
   "source": [
    "class Residual(Differentiable):\n",
    "    def __init__(self):\n",
    "        super(Residual, self).__init__()\n",
    "\n",
    "    \n",
    "    def __call__(self, mu, y):\n",
    "        return self.forward(mu, y)\n",
    "\n",
    "    \n",
    "    def forward(self, mu, y):\n",
    "        # Этот метод реализует вычисление отклонения mu-y\n",
    "        # print('11', mu.shape)\n",
    "        # print('12', y.shape)\n",
    "        d = np.subtract(mu, np.transpose(y))\n",
    "        self.cache = d\n",
    "        # print('13', d.shape)\n",
    "\n",
    "        # 1*N\n",
    "        return d\n",
    "\n",
    "    \n",
    "    def backward(self, usg):\n",
    "        # Этот метод реализует вычисление градиента отклонения D по аргументу mu\n",
    "        \n",
    "        ### YOUR CODE HERE\n",
    "        # partial_grad = np.diag([-1]*self.cache.shape[1], k=0)\n",
    "        # partial_grad = np.matmul(usg, partial_grad)\n",
    "        partial_grad = -usg\n",
    "        return partial_grad"
   ]
  },
  {
   "cell_type": "code",
   "execution_count": 271,
   "metadata": {},
   "outputs": [],
   "source": [
    "class MSE(Differentiable):\n",
    "    def __init__(self):\n",
    "        super(MSE, self).__init__()\n",
    "        \n",
    "    \n",
    "    def __call__(self, d):\n",
    "        return self.forward(d)\n",
    "        \n",
    "    \n",
    "    def forward(self, d):\n",
    "        # Этот метод реализует вычисление значения функции потерь\n",
    "        # Подсказка: метод должен возвращать единственный скаляр - значение функции потерь\n",
    "        self.cache = d\n",
    "        mse_value = np.divide(np.sum(np.square(d)), len(d))\n",
    "        \n",
    "        return mse_value\n",
    "    \n",
    "    \n",
    "    def backward(self):\n",
    "        # Этот метод реализует вычисление градиента функции потерь по аргументу d\n",
    "        # Подсказка: метод должен возвращать вектор градиента функции потерь\n",
    "        #           размерностью, совпадающей с размерностью аргумента d\n",
    "        \n",
    "        \n",
    "        ### YOUR CODE HERE\n",
    "        n = 2 / (self.cache.shape[1])\n",
    "        partial_grad = n * self.cache\n",
    "        # self.cache = None\n",
    "        # print('5', partial_grad.shape)\n",
    "\n",
    "        # 1*N\n",
    "        return partial_grad\n",
    "        "
   ]
  },
  {
   "cell_type": "code",
   "execution_count": 272,
   "metadata": {},
   "outputs": [],
   "source": [
    "class Identity(Differentiable):\n",
    "    def __init__(self):\n",
    "        super(Identity, self).__init__()\n",
    "    \n",
    "    def __call__(self, X):\n",
    "        # этот метод предназначен для вычисления значения функции активации\n",
    "        return self.forward(X)\n",
    "    \n",
    "    def backward(self, usg):\n",
    "        # Этот метод реализует вычисление компоненты градиента функции потерь\n",
    "        return usg\n",
    "    \n",
    "    def forward(self, X):\n",
    "        # этот метод предназначен для вычисления функции активации\n",
    "        return X"
   ]
  },
  {
   "cell_type": "code",
   "execution_count": 273,
   "metadata": {},
   "outputs": [],
   "source": [
    "class NN(Differentiable):\n",
    "    def __init__(self):\n",
    "        super(NN, self).__init__()\n",
    "        self.l1 = linear()\n",
    "        self.act = Identity()\n",
    "\n",
    "    \n",
    "    def __call__(self, X):\n",
    "        return self.forward(X)\n",
    "\n",
    "    \n",
    "    def forward(self, X):\n",
    "        # Этот метод будет вычислять нейросеть на данных X\n",
    "        ### YOUR CODE HERE\n",
    "        x = self.l1(X)\n",
    "        # print('1', x)\n",
    "        x = self.act(x)\n",
    "        # print('2', x)\n",
    "        \n",
    "        return x\n",
    "\n",
    "    \n",
    "    def backward(self, usg):\n",
    "        grad = None\n",
    "        ### YOUR CODE HERE\n",
    "        grad = self.act.backward(usg)\n",
    "        # print('3', grad.shape)\n",
    "        grad = self.l1.backward(grad)\n",
    "        # print('4', grad.shape)\n",
    "        return grad"
   ]
  },
  {
   "cell_type": "code",
   "execution_count": 274,
   "metadata": {},
   "outputs": [],
   "source": [
    "class Loss(Differentiable):\n",
    "    def __init__(self):\n",
    "        super(Loss, self).__init__()\n",
    "        self.dev = Residual()\n",
    "        self.mse = MSE()\n",
    "    \n",
    "    def __call__(self, mu, y):\n",
    "        return self.forward(mu, y)\n",
    "    \n",
    "    def forward(self, mu, y):\n",
    "        # Этот метод будет вычислять нейросеть на данных X\n",
    "        ### YOUR CODE HERE\n",
    "        d = self.dev(mu, y)\n",
    "        l = self.mse(d)\n",
    "        return l\n",
    "    \n",
    "    # def backward(self, usg):\n",
    "    def backward(self):\n",
    "        grad = None\n",
    "        ### YOUR CODE HERE\n",
    "        grad = self.mse.backward()\n",
    "        # print('1', grad.shape)\n",
    "        grad = self.dev.backward(grad)\n",
    "        # print('2', grad.shape)\n",
    "        \n",
    "        return grad"
   ]
  },
  {
   "cell_type": "code",
   "execution_count": 275,
   "metadata": {},
   "outputs": [],
   "source": [
    "def clip_by_norm(grad, max_norm = 1.0):\n",
    "    grad_norm = np.linalg.norm(grad)\n",
    "    if grad_norm > max_norm:\n",
    "        grad = max_norm * grad / grad_norm\n",
    "    return grad"
   ]
  },
  {
   "cell_type": "code",
   "execution_count": null,
   "metadata": {},
   "outputs": [],
   "source": []
  },
  {
   "cell_type": "code",
   "execution_count": 276,
   "metadata": {},
   "outputs": [],
   "source": [
    "network = NN()"
   ]
  },
  {
   "cell_type": "code",
   "execution_count": 277,
   "metadata": {},
   "outputs": [],
   "source": [
    "mu = network(Xtr)"
   ]
  },
  {
   "cell_type": "code",
   "execution_count": 278,
   "metadata": {},
   "outputs": [],
   "source": [
    "loss_fn = Loss()"
   ]
  },
  {
   "cell_type": "code",
   "execution_count": 279,
   "metadata": {},
   "outputs": [],
   "source": [
    "loss_value = loss_fn(mu, ytr)"
   ]
  },
  {
   "cell_type": "code",
   "execution_count": 280,
   "metadata": {},
   "outputs": [
    {
     "data": {
      "text/plain": [
       "matrix([[0.00124136, 0.00329199, 0.00381424, ..., 0.00402313, 0.00414398,\n",
       "         0.02473593]])"
      ]
     },
     "execution_count": 280,
     "metadata": {},
     "output_type": "execute_result"
    }
   ],
   "source": [
    "loss_fn.backward()"
   ]
  },
  {
   "cell_type": "code",
   "execution_count": 281,
   "metadata": {},
   "outputs": [],
   "source": [
    "grad = network.backward(usg=loss_fn.backward())"
   ]
  },
  {
   "cell_type": "code",
   "execution_count": null,
   "metadata": {},
   "outputs": [],
   "source": []
  },
  {
   "cell_type": "code",
   "execution_count": 287,
   "metadata": {},
   "outputs": [],
   "source": [
    "learning_rate = 1e-4\n",
    "epochs = 10000"
   ]
  },
  {
   "cell_type": "markdown",
   "metadata": {},
   "source": [
    "### Далее идет процедура обучения созданной нейросети"
   ]
  },
  {
   "cell_type": "code",
   "execution_count": 288,
   "metadata": {
    "scrolled": true
   },
   "outputs": [
    {
     "name": "stderr",
     "output_type": "stream",
     "text": [
      "100%|█| 10000/10000 [00:29<00:00, 342.57it/s, loss=9\n"
     ]
    }
   ],
   "source": [
    "loss_history = []\n",
    "pbar = tqdm(total=epochs)\n",
    "for epoch in range(epochs):\n",
    "    # mu = None\n",
    "    # loss_value = None\n",
    "    # grad = None\n",
    "    # grad = clip_by_norm(grad, 1.0)\n",
    "    \n",
    "    ### YOUR CODE HERE\n",
    "    mu = network(Xtr)\n",
    "    loss_value = loss_fn(mu, ytr)\n",
    "    grad = network.backward(usg=loss_fn.backward())\n",
    "    grad = clip_by_norm(grad, 10)\n",
    "    \n",
    "    # update network parameters\n",
    "    network.l1.theta = network.l1.theta + learning_rate * grad\n",
    "    # print(network.l1.theta)\n",
    "    loss_history.append(loss_value)\n",
    "    pbar.update(1)\n",
    "    pbar.set_postfix({'loss': loss_value})\n",
    "pbar.close()"
   ]
  },
  {
   "cell_type": "code",
   "execution_count": 289,
   "metadata": {},
   "outputs": [
    {
     "data": {
      "image/png": "[encoded data removed]",
      "text/plain": [
       "<Figure size 640x480 with 1 Axes>"
      ]
     },
     "metadata": {},
     "output_type": "display_data"
    }
   ],
   "source": [
    "# отобразите эволюцию функции потерь по мере обучения сети\n",
    "plt.plot(loss_history)\n",
    "plt.yscale('log')"
   ]
  },
  {
   "cell_type": "code",
   "execution_count": null,
   "metadata": {},
   "outputs": [],
   "source": []
  },
  {
   "cell_type": "code",
   "execution_count": null,
   "metadata": {},
   "outputs": [],
   "source": []
  },
  {
   "cell_type": "code",
   "execution_count": 290,
   "metadata": {},
   "outputs": [],
   "source": [
    "# примените нейросеть к данным Xtr\n",
    "mu = network(Xtr)"
   ]
  },
  {
   "cell_type": "code",
   "execution_count": 291,
   "metadata": {},
   "outputs": [
    {
     "data": {
      "text/plain": [
       "<matplotlib.collections.PathCollection at 0x71827a7d8410>"
      ]
     },
     "execution_count": 291,
     "metadata": {},
     "output_type": "execute_result"
    },
    {
     "data": {
      "image/png": "[encoded data removed]",
      "text/plain": [
       "<Figure size 640x480 with 1 Axes>"
      ]
     },
     "metadata": {},
     "output_type": "display_data"
    }
   ],
   "source": [
    "# отобразите диаграмму y(y_true) для оценки соответствия полученного решения известному\n",
    "plt.scatter(list(ytr), list(mu), s=1)"
   ]
  },
  {
   "cell_type": "code",
   "execution_count": null,
   "metadata": {},
   "outputs": [],
   "source": []
  }
 ],
 "metadata": {
  "kernelspec": {
   "display_name": "Python 3 (ipykernel)",
   "language": "python",
   "name": "python3"
  },
  "language_info": {
   "codemirror_mode": {
    "name": "ipython",
    "version": 3
   },
   "file_extension": ".py",
   "mimetype": "text/x-python",
   "name": "python",
   "nbconvert_exporter": "python",
   "pygments_lexer": "ipython3",
   "version": "3.11.0rc1"
  }
 },
 "nbformat": 4,
 "nbformat_minor": 4
}

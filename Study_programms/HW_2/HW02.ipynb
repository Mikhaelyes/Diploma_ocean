{
 "cells": [
  {
   "cell_type": "markdown",
   "metadata": {},
   "source": [
    "# ДЗ №2 - обучение многослойной нелинейной искусственной нейронной сети методом градиентного спуска"
   ]
  },
  {
   "cell_type": "markdown",
   "metadata": {},
   "source": [
    "Реализовать обучение ИНС методом градиентного спуска.\n",
    "\n",
    "В этом задании предлагается реализовать нейросеть по аналогии с ДЗ №1. На этот раз нейросеть должна быть многослойной; функции активации должны отличаться от идентичных. Можете использовать ReLU, сигмоид, гиперболический тангенс или вашу любимую. Материал для вдохновения в этом отношении можно искать [на Википедии](https://en.wikipedia.org/wiki/Activation_function)"
   ]
  },
  {
   "cell_type": "markdown",
   "metadata": {},
   "source": [
    "В решении ожидается наличие следующих ключевых составляющих:<br />\n",
    "\n",
    "#### Текстовое описание в решении:\n",
    "- формулировка задачи, формулировка признакового описания объектов, формулировка функции ошибки;\n",
    "- исследование исходных данных на предмет скоррелированности признаков; фильтрация признаков; порождение признаков (при необходимости; отсутствие этого шага не является недочетом, но вам же будет без него неудобно);\n",
    "- оценка параметров модели ИНС (обучение модели) методом градиентного спуска;\n",
    "\n",
    "#### Код решения:\n",
    "(используйте предлагаемые шаблоны)\n",
    "- формулировка всех составляющих модели \"нейросети\";\n",
    "- формулировка модели \"нейросети\" - `NN` (многослойного перцептрона);\n",
    "- формулировка функции ошибки вместе с ее составляющими (например, класс отклонения `Residual`);\n",
    "- формулировка цикла оптимизации параметров.\n",
    "\n",
    "\n",
    "#### Визуализация в решении:\n",
    "- распределения признаков;\n",
    "- распределение целевой переменной;\n",
    "- эволюция функции ошибки и выбранных метрик качества по ходу обучения.\n",
    "- диаграмма соответствия измеренной целевой переменной и значений целевой переменной, оцененной с использованием обученной \"нейросети\" (т.н. диаграмма рассеяния)"
   ]
  },
  {
   "cell_type": "markdown",
   "metadata": {},
   "source": [
    "Примечания:\n",
    "\n",
    "В этом ДЗ экспертное порождение новых признаков НЕ ДОПУСКАЕТСЯ. Все признаки должны быть выучены вашей нейросетью в процессе обучения.\n",
    "\n",
    "Реализация нейросети может быть написана только с использованием библиотеки Numpy. Решения с использованием библиотек автоматического вычисления градиентов не засчитываются."
   ]
  },
  {
   "cell_type": "markdown",
   "metadata": {},
   "source": [
    " "
   ]
  },
  {
   "cell_type": "markdown",
   "metadata": {},
   "source": [
    "Данные находятся в следующих файлах:\n",
    "\n",
    "Признаковое описание объектов обучающей выборки - в файле X_train.npy\n",
    "\n",
    "Значения целевой переменной на обучающей выборке - в файле y_train.npy"
   ]
  },
  {
   "cell_type": "markdown",
   "metadata": {},
   "source": [
    "Способ чтения данных из файлов *.npy :\n",
    "\n",
    "```\n",
    "import numpy as np\n",
    "data = np.load('/path/to/filename.npy')\n",
    "```"
   ]
  },
  {
   "cell_type": "raw",
   "metadata": {},
   "source": []
  },
  {
   "cell_type": "markdown",
   "metadata": {},
   "source": [
    "### Примечание на предмет реализации градиента функции потерь\n",
    "\n",
    "В качестве шпаргалки можно подсмотреть правила матричного дифференцирования <a href=\"https://www.math.uwaterloo.ca/~hwolkowi/matrixcookbook.pdf\">здесь</a>\n",
    "\n",
    "В этом ДЗ следует очень аккуратно реализовать градиент каждой отдельной операции по аргументу этой операции:\n",
    "- градиент квадрата отклонения $d^2$ - по отклонению $d$\n",
    "- градиент отклонения $\\left(\\hat{y}-y\\right)$ - по аргументу $\\hat{y}$\n",
    "- градиент функции активации $\\hat{y}=A\\left(z\\right)$ - по ее агрументу $z$\n",
    "- градиент оценки $z=\\theta^T\\cdot h$ - по аргументу $\\theta$\n",
    "\n",
    "**ВНИМАНИЕ**\n",
    "В этом задании также следует учесть, что подразумевается, что метод `backward` каждого класса выдает градиент **функции ошибки** по аргументу операции. Для учета градиентов всех предыдущих операций в этот метод передается т.н. **upstream gradient** - переменная `usg`. Не забывайте ее передавать при \"сборке\" полного градиента. Эта \"сборка\" у вас будет в двух классах - классе функции потерь `MSE` (нужно собрать градиент операции `MSE` с учетом того, что она, в свою очередь, сложная функция, использующая `Residual`) и классе нейросети `NN`.\n",
    "\n",
    "Как можно видеть, все операции, из которых составляется \"нейросеть\" в этом задании, могут быть представлены однотипно: для всех из них можно задать метод вычисления `forward` на \"прямом проходе\" и метод вычисления градиента `backward` на этапе вычисления градиентов, \"обратном проходе\".\n",
    "\n",
    "**ВНИМАНИЕ**\n",
    "Не следует забывать, что для вычисления градиентов обычно используются результаты операции, вычисленные на этапе \"прямого прохода\". Для хранения этих результатов используйте атрибуты класса `cache`. Напомним, ссылка на сам экземпляр класса в теле метода класса обычно упоминается как `self`. То есть, атрибут `cache` этого экземпляра класса будет в этом методе упоминаться как `self.cache`. Вы можете назвать его как угодно (не обязательно именно `cache`), но реализация хранения промежуточных результатов вычисления нейросети - **обязательно** в этом ДЗ."
   ]
  },
  {
   "cell_type": "code",
   "execution_count": null,
   "metadata": {},
   "outputs": [],
   "source": []
  },
  {
   "cell_type": "code",
   "execution_count": 1,
   "metadata": {},
   "outputs": [],
   "source": [
    "import numpy as np\n",
    "from tqdm import tqdm"
   ]
  },
  {
   "cell_type": "code",
   "execution_count": 2,
   "metadata": {},
   "outputs": [],
   "source": [
    "%matplotlib inline"
   ]
  },
  {
   "cell_type": "code",
   "execution_count": 3,
   "metadata": {},
   "outputs": [],
   "source": [
    "import matplotlib.pyplot as plt"
   ]
  },
  {
   "cell_type": "code",
   "execution_count": 4,
   "metadata": {},
   "outputs": [],
   "source": [
    "Xtr = np.load('./X_train.npy')\n",
    "ytr = np.load('./y_train.npy')\n",
    "\n",
    "Xtr = np.transpose(Xtr)\n",
    "ytr = np.transpose(ytr)"
   ]
  },
  {
   "cell_type": "code",
   "execution_count": 5,
   "metadata": {},
   "outputs": [
    {
     "data": {
      "text/plain": [
       "(1, 10000)"
      ]
     },
     "execution_count": 5,
     "metadata": {},
     "output_type": "execute_result"
    }
   ],
   "source": [
    "ytr.shape"
   ]
  },
  {
   "cell_type": "code",
   "execution_count": 6,
   "metadata": {},
   "outputs": [
    {
     "data": {
      "text/plain": [
       "(4, 10000)"
      ]
     },
     "execution_count": 6,
     "metadata": {},
     "output_type": "execute_result"
    }
   ],
   "source": [
    "Xtr.shape"
   ]
  },
  {
   "cell_type": "code",
   "execution_count": 7,
   "metadata": {},
   "outputs": [
    {
     "data": {
      "text/plain": [
       "<matplotlib.collections.PathCollection at 0x7b35841b8b50>"
      ]
     },
     "execution_count": 7,
     "metadata": {},
     "output_type": "execute_result"
    },
    {
     "data": {
      "image/png": "[encoded data removed]",
      "text/plain": [
       "<Figure size 640x480 with 1 Axes>"
      ]
     },
     "metadata": {},
     "output_type": "display_data"
    }
   ],
   "source": [
    "plt.scatter(Xtr[0,:], ytr, s=1)"
   ]
  },
  {
   "cell_type": "code",
   "execution_count": 8,
   "metadata": {},
   "outputs": [
    {
     "data": {
      "text/plain": [
       "<matplotlib.collections.PathCollection at 0x7b35841f4110>"
      ]
     },
     "execution_count": 8,
     "metadata": {},
     "output_type": "execute_result"
    },
    {
     "data": {
      "image/png": "[encoded data removed]",
      "text/plain": [
       "<Figure size 640x480 with 1 Axes>"
      ]
     },
     "metadata": {},
     "output_type": "display_data"
    }
   ],
   "source": [
    "plt.scatter(Xtr[1,:], ytr, s=1)"
   ]
  },
  {
   "cell_type": "code",
   "execution_count": 9,
   "metadata": {},
   "outputs": [
    {
     "data": {
      "text/plain": [
       "<matplotlib.collections.PathCollection at 0x7b35840a6890>"
      ]
     },
     "execution_count": 9,
     "metadata": {},
     "output_type": "execute_result"
    },
    {
     "data": {
      "image/png": "[encoded data removed]",
      "text/plain": [
       "<Figure size 640x480 with 1 Axes>"
      ]
     },
     "metadata": {},
     "output_type": "display_data"
    }
   ],
   "source": [
    "plt.scatter(Xtr[2,:], ytr, s=1)"
   ]
  },
  {
   "cell_type": "code",
   "execution_count": 10,
   "metadata": {},
   "outputs": [
    {
     "data": {
      "text/plain": [
       "<matplotlib.collections.PathCollection at 0x7b357bf55e10>"
      ]
     },
     "execution_count": 10,
     "metadata": {},
     "output_type": "execute_result"
    },
    {
     "data": {
      "image/png": "[encoded data removed]",
      "text/plain": [
       "<Figure size 640x480 with 1 Axes>"
      ]
     },
     "metadata": {},
     "output_type": "display_data"
    }
   ],
   "source": [
    "plt.scatter(Xtr[3,:], ytr, s=1)"
   ]
  },
  {
   "cell_type": "code",
   "execution_count": 11,
   "metadata": {},
   "outputs": [
    {
     "data": {
      "text/plain": [
       "array([[1.        , 0.99930832, 0.00924955, 0.88100664],\n",
       "       [0.99930832, 1.        , 0.0096915 , 0.88030952],\n",
       "       [0.00924955, 0.0096915 , 1.        , 0.01899396],\n",
       "       [0.88100664, 0.88030952, 0.01899396, 1.        ]])"
      ]
     },
     "execution_count": 11,
     "metadata": {},
     "output_type": "execute_result"
    }
   ],
   "source": [
    "np.corrcoef(np.transpose(Xtr), rowvar=False)"
   ]
  },
  {
   "cell_type": "code",
   "execution_count": 12,
   "metadata": {},
   "outputs": [],
   "source": [
    "# Примите решение о фильтрации признаков или порождении новых признаков\n",
    "# Xtr = ..."
   ]
  },
  {
   "cell_type": "code",
   "execution_count": 13,
   "metadata": {},
   "outputs": [],
   "source": [
    "class Differentiable:\n",
    "    def __init__(self):\n",
    "        pass\n",
    "    \n",
    "    def forward(self, **kwargs):\n",
    "        raise NotImplementedError()\n",
    "    \n",
    "    def backward(self, **kwargs):\n",
    "        raise NotImplementedError()"
   ]
  },
  {
   "cell_type": "code",
   "execution_count": 14,
   "metadata": {},
   "outputs": [],
   "source": [
    "class Residual(Differentiable):\n",
    "    def __init__(self):\n",
    "        super(Residual, self).__init__()\n",
    "\n",
    "    \n",
    "    def __call__(self, mu, y):\n",
    "        return self.forward(mu, y)\n",
    "\n",
    "    \n",
    "    def forward(self, mu, y):\n",
    "        # Этот метод реализует вычисление отклонения mu-y\n",
    "        d = np.subtract(mu, y)\n",
    "        self.cache = d\n",
    "\n",
    "        # 1*N\n",
    "        return d\n",
    "\n",
    "    \n",
    "    def backward(self, usg):\n",
    "        # Этот метод реализует вычисление градиента отклонения D по аргументу mu\n",
    "        \n",
    "        ### YOUR CODE HERE\n",
    "        # partial_grad = np.diag([-1]*self.cache.shape[1], k=0)\n",
    "        # partial_grad = np.matmul(usg, partial_grad)\n",
    "        partial_grad = usg\n",
    "        # print('residal b', partial_grad.shape)\n",
    "        return partial_grad"
   ]
  },
  {
   "cell_type": "code",
   "execution_count": 15,
   "metadata": {},
   "outputs": [],
   "source": [
    "class MSE(Differentiable):\n",
    "    def __init__(self):\n",
    "        super(MSE, self).__init__()\n",
    "        \n",
    "    \n",
    "    def __call__(self, d):\n",
    "        return self.forward(d)\n",
    "        \n",
    "    \n",
    "    def forward(self, d):\n",
    "        # Этот метод реализует вычисление значения функции потерь\n",
    "        # Подсказка: метод должен возвращать единственный скаляр - значение функции потерь\n",
    "        \n",
    "        self.cache = d\n",
    "        mse_value = np.divide(np.sum(np.square(d)), len(d))\n",
    "        \n",
    "        # print('mse', mse_value)\n",
    "        \n",
    "        return mse_value\n",
    "        \n",
    "    \n",
    "    def backward(self):\n",
    "        # Этот метод реализует вычисление градиента функции потерь по аргументу d\n",
    "        # Подсказка: метод должен возвращать вектор градиента функции потерь\n",
    "        #           размерностью, совпадающей с размерностью аргумента d\n",
    "        \n",
    "        ### YOUR CODE HERE\n",
    "        n = 2 / (self.cache.shape[1])\n",
    "        partial_grad = n * self.cache\n",
    "        # self.cache = None\n",
    "        # print('5', partial_grad.shape)\n",
    "\n",
    "        # 1*N\n",
    "        # print('MSE b', partial_grad.shape)\n",
    "        # print('pg_MSE', partial_grad)\n",
    "        return partial_grad\n",
    "        "
   ]
  },
  {
   "cell_type": "code",
   "execution_count": 16,
   "metadata": {},
   "outputs": [],
   "source": [
    "class linear(Differentiable):\n",
    "    def __init__(self, m, k):\n",
    "        super(linear, self).__init__()\n",
    "        self.theta = None\n",
    "        self.cache = None\n",
    "        self.m = m\n",
    "        self.k = k\n",
    "\n",
    "    \n",
    "    def __call__(self, X):\n",
    "        # этот метод предназначен для вычисления значения целевой переменной\n",
    "        return self.forward(X)\n",
    "\n",
    "    \n",
    "    def forward(self, X):\n",
    "        # этот метод предназначен для применения модели к данным\n",
    "        assert X.ndim == 2, \"X should be 2-dimensional: (N of objects, n of features)\"\n",
    "        \n",
    "        # ВНИМАНИЕ! Матрица объекты-признаки X не включает смещение\n",
    "        #           Вектор единиц для применения смещения нужно присоединить самостоятельно!\n",
    "        \n",
    "        ### YOUR CODE HERE\n",
    "        # X_ = ...\n",
    "        \n",
    "        if (self.theta is None):\n",
    "            # Если вектор параметров еще не инициализирован, его следует инициализировать\n",
    "            # Подсказка: длина вектора параметров может быть получена из размера матрицы X\n",
    "            # Fx1.T dot NxF.T = 1xN\n",
    "            # Если X - матрица объекты-признаки, то это матрица из вектор-строк!\n",
    "            self.theta = np.matrix(np.random.uniform(-10, 10, [self.m+1, self.k]))\n",
    "        \n",
    "        \n",
    "        # Здесь следует собственно применить модель к входным данным\n",
    "        # print('l', X.shape)\n",
    "        \n",
    "        mu = np.dot(np.transpose(self.theta[:-1, :]), X) + np.transpose(self.theta[-1, :])\n",
    "        self.cache = X\n",
    "        # print('l_mu', mu.shape)\n",
    "        \n",
    "        return mu\n",
    "\n",
    "    \n",
    "    def backward(self, usg):\n",
    "        # Этот метод реализует вычисление компоненты градиента функции потерь\n",
    "        \n",
    "        assert self.cache is not None, \"please perform forward pass first\"\n",
    "\n",
    "        # print('l b usg', usg.shape)\n",
    "        # print('l b sc', self.cache.shape)\n",
    "        \n",
    "        \n",
    "        partial_grad_O = np.column_stack((self.cache.T, np.array([1] * self.cache.shape[1])))\n",
    "        # print('l b pgo', partial_grad_O.shape)\n",
    "        partial_grad_O = usg @ partial_grad_O\n",
    "        \n",
    "\n",
    "        partial_grad_X = self.theta[:-1]\n",
    "        # print('l b pgx', partial_grad_X.shape)\n",
    "        partial_grad_X = usg.T * partial_grad_X.T\n",
    "        \n",
    "        # Не забудьте очистить кэш!\n",
    "        self.cache = None\n",
    "        # print('pg_x pg_o b', partial_grad_X.shape, partial_grad_O.shape)\n",
    "        # print('pg_o', partial_grad_O)\n",
    "        \n",
    "        return partial_grad_X.T, partial_grad_O"
   ]
  },
  {
   "cell_type": "code",
   "execution_count": 17,
   "metadata": {},
   "outputs": [],
   "source": [
    "class Identity(Differentiable):\n",
    "    def __init__(self):\n",
    "        super(Identity, self).__init__()\n",
    "    \n",
    "    def __call__(self, X):\n",
    "        # этот метод предназначен для вычисления значения функции активации\n",
    "        return self.forward(X)\n",
    "    \n",
    "    def backward(self, usg):\n",
    "        # Этот метод реализует вычисление компоненты градиента функции потерь\n",
    "        return usg\n",
    "    \n",
    "    def forward(self, X):\n",
    "        # этот метод предназначен для вычисления функции активации\n",
    "        return X"
   ]
  },
  {
   "cell_type": "code",
   "execution_count": 18,
   "metadata": {},
   "outputs": [],
   "source": [
    "class Activation(Differentiable):\n",
    "    def __init__(self):\n",
    "        super(Activation, self).__init__()\n",
    "\n",
    "    \n",
    "    def __call__(self, X):\n",
    "        # этот метод предназначен для вычисления значения функции активации\n",
    "        return self.forward(X)\n",
    "\n",
    "    \n",
    "    def forward(self, X):\n",
    "        self.cache = X\n",
    "\n",
    "        return np.maximum(0, X)\n",
    "\n",
    "    \n",
    "    def backward(self, usg):\n",
    "\n",
    "        # print('act b sc', self.cache.shape)\n",
    "        partial_grad = self.cache\n",
    "        partial_grad = np.where(partial_grad > 0, 1, 0)\n",
    "        # partial_grad = np.resize(partial_grad, list(partial_grad.shape[:-2]) + [usg.shape[-1]] + [partial_grad.shape[-1]])\n",
    "        # print('act test', [usg.shape[-1]] + list(partial_grad.shape))\n",
    "        \n",
    "        \n",
    "        # print('act b usg', usg.shape)\n",
    "        # print('act b pg', partial_grad.shape)\n",
    "        \n",
    "        # output = usg @ partial_grad\n",
    "        self.cache = None\n",
    "\n",
    "        # print('act b', usg.shape)\n",
    "        \n",
    "        # return output\n",
    "        return np.multiply(partial_grad, usg)"
   ]
  },
  {
   "cell_type": "code",
   "execution_count": 19,
   "metadata": {},
   "outputs": [],
   "source": [
    "class NN(Differentiable):\n",
    "    def __init__(self, arg):\n",
    "        super(NN, self).__init__()\n",
    "        self.l1 = linear(arg[0][0], arg[0][1])\n",
    "        self.act1 = Activation()\n",
    "        self.l2 = linear(arg[1][0], arg[1][1])\n",
    "        self.act2 = Activation()\n",
    "        self.l3 = linear(arg[2][0], arg[2][1]) # можно после вставить Identity для задачи регрессии\n",
    "        \n",
    "    \n",
    "    def __call__(self, X):\n",
    "        return self.forward(X)\n",
    "    \n",
    "    def forward(self, X):\n",
    "        # Этот метод будет вычислять нейросеть на данных X\n",
    "        ### YOUR CODE HERE\n",
    "        x = self.l1(X)\n",
    "        x = self.act1(x)\n",
    "        x = self.l2(x)\n",
    "        x = self.act2(x)\n",
    "        x = self.l3(x)\n",
    "        return x\n",
    "\n",
    "    \n",
    "    def backward(self, usg):\n",
    "        grad = None\n",
    "        ### YOUR CODE HERE\n",
    "        partial_grad_X_l3, partial_grad_O_l3 = self.l3.backward(usg)\n",
    "        \n",
    "        usg = self.act2.backward(partial_grad_X_l3)\n",
    "        partial_grad_X_l2, partial_grad_O_l2 = self.l2.backward(usg)\n",
    "        \n",
    "        usg = self.act1.backward(partial_grad_X_l2)\n",
    "        partial_grad_X_l1, partial_grad_O_l1 = self.l1.backward(usg)\n",
    "\n",
    "\n",
    "        return partial_grad_O_l1, partial_grad_O_l2, partial_grad_O_l3"
   ]
  },
  {
   "cell_type": "code",
   "execution_count": 20,
   "metadata": {},
   "outputs": [],
   "source": [
    "class Loss(Differentiable):\n",
    "    def __init__(self):\n",
    "        super(Loss, self).__init__()\n",
    "        self.dev = Residual()\n",
    "        self.mse = MSE()\n",
    "    \n",
    "    def __call__(self, mu, y):\n",
    "        return self.forward(mu, y)\n",
    "    \n",
    "    def forward(self, mu, y):\n",
    "        # Этот метод будет вычислять нейросеть на данных X\n",
    "        ### YOUR CODE HERE\n",
    "        d = self.dev(mu, y)\n",
    "        l = self.mse(d)\n",
    "        return l\n",
    "    \n",
    "    # def backward(self, usg):\n",
    "    def backward(self):\n",
    "        grad = None\n",
    "        ### YOUR CODE HERE\n",
    "        grad = self.mse.backward()\n",
    "        # print('1', grad.shape)\n",
    "        grad = self.dev.backward(grad)\n",
    "        # print('2', grad.shape)\n",
    "        \n",
    "        return grad"
   ]
  },
  {
   "cell_type": "code",
   "execution_count": 21,
   "metadata": {},
   "outputs": [],
   "source": [
    "def clip_by_norm(grad, max_norm = 1.0):\n",
    "    grad_norm = np.linalg.norm(grad)\n",
    "    if grad_norm > max_norm:\n",
    "        grad = max_norm * grad / grad_norm\n",
    "    return grad"
   ]
  },
  {
   "cell_type": "code",
   "execution_count": 22,
   "metadata": {},
   "outputs": [],
   "source": [
    "network = NN([[3, 10], [10, 10], [10, 1]])"
   ]
  },
  {
   "cell_type": "code",
   "execution_count": 23,
   "metadata": {},
   "outputs": [
    {
     "data": {
      "text/plain": [
       "(3, 10000)"
      ]
     },
     "execution_count": 23,
     "metadata": {},
     "output_type": "execute_result"
    }
   ],
   "source": [
    "Xtr = Xtr[[0, 2, 3], :]\n",
    "Xtr.shape"
   ]
  },
  {
   "cell_type": "code",
   "execution_count": 24,
   "metadata": {},
   "outputs": [
    {
     "name": "stdout",
     "output_type": "stream",
     "text": [
      "(3, 10000)\n"
     ]
    }
   ],
   "source": [
    "print(Xtr.shape)"
   ]
  },
  {
   "cell_type": "code",
   "execution_count": 25,
   "metadata": {},
   "outputs": [],
   "source": [
    "mu = network(Xtr)"
   ]
  },
  {
   "cell_type": "code",
   "execution_count": 26,
   "metadata": {},
   "outputs": [],
   "source": [
    "loss_fn = Loss()"
   ]
  },
  {
   "cell_type": "code",
   "execution_count": 27,
   "metadata": {},
   "outputs": [],
   "source": [
    "loss = loss_fn(mu, ytr)"
   ]
  },
  {
   "cell_type": "code",
   "execution_count": 28,
   "metadata": {},
   "outputs": [
    {
     "data": {
      "text/plain": [
       "matrix([[ -0.45216575, -31.27206739, -15.45468381, ...,  -7.17465094,\n",
       "          -7.27240923, -43.88366572]])"
      ]
     },
     "execution_count": 28,
     "metadata": {},
     "output_type": "execute_result"
    }
   ],
   "source": [
    "loss_fn.backward()"
   ]
  },
  {
   "cell_type": "code",
   "execution_count": 29,
   "metadata": {},
   "outputs": [
    {
     "data": {
      "text/plain": [
       "(matrix([[-3.59753252e+06,  2.98770629e+07, -3.22299443e+08,\n",
       "          -1.11464005e+05],\n",
       "         [ 6.06028697e+06, -4.70116305e+07,  3.77116971e+08,\n",
       "          -8.26856854e+05],\n",
       "         [-1.45480597e+08,  1.05559397e+09, -8.07218595e+09,\n",
       "           2.13081719e+07],\n",
       "         [ 5.39828717e+07, -3.87974824e+08,  2.94791725e+09,\n",
       "          -8.01160697e+06],\n",
       "         [-6.31754592e+07, -4.73134912e+08, -3.70903573e+09,\n",
       "          -8.86377069e+06],\n",
       "         [-3.77634450e+07,  2.76555353e+08, -2.12886694e+09,\n",
       "           5.47177735e+06],\n",
       "         [ 1.19944203e+08,  8.88790227e+08,  6.92349614e+09,\n",
       "           1.71236102e+07],\n",
       "         [ 3.22925273e+07,  2.46763481e+08,  1.95722854e+09,\n",
       "           4.37905384e+06],\n",
       "         [-1.09941341e+08,  7.95990724e+08, -6.07932377e+09,\n",
       "           1.61656656e+07],\n",
       "         [ 2.84220031e+07,  1.92447178e+08,  1.41401299e+09,\n",
       "           4.61723125e+06]]),\n",
       " matrix([[ 2.17803045e+08,  1.16198235e+09,  9.94761045e+08,\n",
       "           1.54757944e+09,  1.43606687e+09,  7.04621164e+08,\n",
       "           1.10701985e+09,  1.40758714e+09,  1.35641217e+09,\n",
       "           7.77280196e+08,  8.82490015e+05],\n",
       "         [-1.92742151e+07, -6.26650672e+07, -5.36555352e+07,\n",
       "          -9.25490202e+07, -2.15748852e+09, -3.95244214e+07,\n",
       "          -1.66314164e+09, -2.11470173e+09, -8.71861300e+07,\n",
       "          -1.16775419e+09, -7.08852176e+05],\n",
       "         [ 3.98861227e+08,  2.12869056e+09,  1.82234996e+09,\n",
       "           2.83508421e+09, -8.89570184e+01,  1.29082894e+09,\n",
       "           0.00000000e+00,  0.00000000e+00,  2.48487582e+09,\n",
       "           0.00000000e+00,  9.07962182e+05],\n",
       "         [-2.27517828e+08, -1.21381085e+09, -1.03913089e+09,\n",
       "          -1.61660693e+09, -1.50012051e+09, -7.36049750e+08,\n",
       "          -1.15639683e+09, -1.47037048e+09, -1.41691293e+09,\n",
       "          -8.11949630e+08, -9.21852178e+05],\n",
       "         [ 9.04598368e+04, -6.37683714e+01,  0.00000000e+00,\n",
       "           0.00000000e+00,  1.67069221e+09,  0.00000000e+00,\n",
       "           1.28788529e+09,  1.63755941e+09, -8.58873649e+00,\n",
       "           9.04272614e+08,  4.50058618e+05],\n",
       "         [ 7.24353861e+08,  3.86443948e+09,  3.30830658e+09,\n",
       "           5.14683126e+09,  4.77596508e+09,  2.34337969e+09,\n",
       "           3.68164478e+09,  4.68124972e+09,  4.51106056e+09,\n",
       "           2.58502256e+09,  2.93469967e+06],\n",
       "         [-4.18350294e+03, -1.81574554e+03, -9.68072539e+01,\n",
       "          -3.54023742e+03,  1.57557562e+02, -1.59415412e+02,\n",
       "          -2.41602189e+01, -1.76655330e+01, -5.67746886e+03,\n",
       "          -2.68163226e-01, -2.14438151e+02],\n",
       "         [ 4.91215346e+08,  2.62064060e+09,  2.24350325e+09,\n",
       "           3.49028491e+09,  3.23878869e+09,  1.58914533e+09,\n",
       "           2.49668263e+09,  3.17455767e+09,  3.05914172e+09,\n",
       "           1.75301461e+09,  1.99030340e+06],\n",
       "         [ 7.14348683e+05,  6.01888477e+05,  4.78936760e+05,\n",
       "           1.12133101e+06,  4.71439431e+09,  3.80916067e+05,\n",
       "           3.63418169e+09,  4.62089944e+09,  1.22118853e+06,\n",
       "           2.55169540e+09,  1.27995346e+06],\n",
       "         [-1.57162642e+01,  2.48744868e+00,  0.00000000e+00,\n",
       "           0.00000000e+00, -4.27573388e+09,  0.00000000e+00,\n",
       "          -3.29340111e+09, -4.18614434e+09,  0.00000000e+00,\n",
       "          -2.31833175e+09, -1.02232064e+06]]),\n",
       " matrix([[-4.28812969e+09, -5.49783127e+09, -2.12577911e+09,\n",
       "          -7.48254812e+09, -5.38409058e+09, -1.90629652e+09,\n",
       "          -5.90168479e+02, -1.16422369e+10, -2.76630495e+09,\n",
       "          -2.25985733e+08, -3.19184730e+05]]))"
      ]
     },
     "execution_count": 29,
     "metadata": {},
     "output_type": "execute_result"
    }
   ],
   "source": [
    "network.backward(loss_fn.backward())"
   ]
  },
  {
   "cell_type": "code",
   "execution_count": 30,
   "metadata": {},
   "outputs": [
    {
     "name": "stdout",
     "output_type": "stream",
     "text": [
      "(3, 10000)\n"
     ]
    }
   ],
   "source": [
    "print(Xtr.shape)"
   ]
  },
  {
   "cell_type": "code",
   "execution_count": 38,
   "metadata": {},
   "outputs": [
    {
     "name": "stdout",
     "output_type": "stream",
     "text": [
      "Размер тренировочной выборки X: (3, 9000)\n",
      "Размер тестовой выборки X: (3, 1000)\n",
      "Размер тренировочной выборки Y: (1, 9000)\n",
      "Размер тестовой выборки Y: (1, 10000)\n"
     ]
    }
   ],
   "source": [
    "# Тестовая выборка:\n",
    "test_size = 0.1\n",
    "test_count = int(len(Xtr[1]) * test_size)\n",
    "\n",
    "# Перемешивание данных\n",
    "indices = np.arange(len(Xtr))\n",
    "np.random.shuffle(indices)\n",
    "\n",
    "# Разделение данных на тренировочную и тестовую выборки\n",
    "X_test = Xtr[:, :test_count]\n",
    "Y_test = ytr[:test_count]\n",
    "X_train = Xtr[:, test_count:]\n",
    "Y_train = ytr[:, test_count:]\n",
    "\n",
    "# Вывод размеров выборок для проверки\n",
    "print(\"Размер тренировочной выборки X:\", X_train.shape)\n",
    "print(\"Размер тестовой выборки X:\", X_test.shape)\n",
    "print(\"Размер тренировочной выборки Y:\", Y_train.shape)\n",
    "print(\"Размер тестовой выборки Y:\", Y_test.shape)"
   ]
  },
  {
   "cell_type": "code",
   "execution_count": 39,
   "metadata": {},
   "outputs": [],
   "source": [
    "# Приведём признаки к одному масшатабу\n",
    "def normalize_X(sample):\n",
    "    '''\n",
    "    Min-max normalization to convert sample to [0, 1] range\n",
    "    '''\n",
    "    return ((sample.T - X_train.min(axis=1))/(X_train.max(axis=1) - X_train.min(axis=1))).T\n"
   ]
  },
  {
   "cell_type": "code",
   "execution_count": 40,
   "metadata": {},
   "outputs": [],
   "source": [
    "learning_rate = 0.001\n",
    "epochs = 2000"
   ]
  },
  {
   "cell_type": "markdown",
   "metadata": {},
   "source": [
    "### Далее идет процедура обучения созданной нейросети"
   ]
  },
  {
   "cell_type": "code",
   "execution_count": 41,
   "metadata": {},
   "outputs": [],
   "source": [
    "metric = lambda y_pred, y_true: abs(y_pred - y_true).mean() # MAE"
   ]
  },
  {
   "cell_type": "code",
   "execution_count": 42,
   "metadata": {
    "scrolled": true
   },
   "outputs": [
    {
     "name": "stderr",
     "output_type": "stream",
     "text": [
      "  0%|                                                                                                                           | 0/2000 [00:29<?, ?it/s]\n",
      "100%|█████████████████████████████████████████████████████████████████████████████████████████| 2000/2000 [00:20<00:00, 96.61it/s, loss=1.4e+5, mae=2.31]\n"
     ]
    }
   ],
   "source": [
    "loss_history = []\n",
    "metric_history = []\n",
    "pbar = tqdm(total=epochs)\n",
    "for epoch in range(epochs):\n",
    "    \n",
    "    ### YOUR CODE HERE\n",
    "    # mu = ...\n",
    "    # loss_value = ...\n",
    "    # grad = ...\n",
    "    # grad = clip_by_norm(grad, 10)\n",
    "    \n",
    "    # update network parameters\n",
    "    # network.l1.theta = ... + ...\n",
    "\n",
    "    mu = network(normalize_X(X_train))\n",
    "    loss_value = loss_fn(mu, Y_train)\n",
    "    mae = metric(mu, Y_train)\n",
    "    \n",
    "    partial_grad_O_l1, partial_grad_O_l2, partial_grad_O_l3 = network.backward(usg=loss_fn.backward())\n",
    "    partial_grad_O_l1 = clip_by_norm(partial_grad_O_l1, 10)\n",
    "    partial_grad_O_l2 = clip_by_norm(partial_grad_O_l2, 10)\n",
    "    partial_grad_O_l3 = clip_by_norm(partial_grad_O_l3, 10)\n",
    "    \n",
    "    # update network parameters\n",
    "    network.l1.theta = network.l1.theta - learning_rate * partial_grad_O_l1.T\n",
    "    network.l2.theta = network.l2.theta - learning_rate * partial_grad_O_l2.T\n",
    "    network.l3.theta = network.l3.theta - learning_rate * partial_grad_O_l3.T\n",
    "\n",
    "    \n",
    "    loss_history.append(loss_value)\n",
    "    metric_history.append(mae)\n",
    "    pbar.update(1)\n",
    "    pbar.set_postfix({'loss': loss_value, 'mae': mae})\n",
    "pbar.close()"
   ]
  },
  {
   "cell_type": "code",
   "execution_count": 43,
   "metadata": {},
   "outputs": [
    {
     "data": {
      "text/plain": [
       "Text(0.5, 1.0, 'MAE')"
      ]
     },
     "execution_count": 43,
     "metadata": {},
     "output_type": "execute_result"
    },
    {
     "data": {
      "image/png": "[encoded data removed]",
      "text/plain": [
       "<Figure size 1600x800 with 2 Axes>"
      ]
     },
     "metadata": {},
     "output_type": "display_data"
    }
   ],
   "source": [
    "# отобразите эволюцию функции потерь по мере обучения сети\n",
    "fig, ax = plt.subplots(1, 2, figsize=(16, 8))\n",
    "ax[0].plot(loss_history)\n",
    "ax[0].set_title(\"MSE\")\n",
    "ax[1].plot(metric_history)\n",
    "ax[1].set_title(\"MAE\")\n",
    "\n"
   ]
  },
  {
   "cell_type": "code",
   "execution_count": null,
   "metadata": {},
   "outputs": [],
   "source": []
  },
  {
   "cell_type": "code",
   "execution_count": null,
   "metadata": {},
   "outputs": [],
   "source": []
  },
  {
   "cell_type": "code",
   "execution_count": 44,
   "metadata": {},
   "outputs": [],
   "source": [
    "# примените нейросеть к данным Xtr\n",
    "mu = network(normalize_X(Xtr))"
   ]
  },
  {
   "cell_type": "code",
   "execution_count": 45,
   "metadata": {},
   "outputs": [
    {
     "data": {
      "text/plain": [
       "[<matplotlib.lines.Line2D at 0x7b3579d62c90>]"
      ]
     },
     "execution_count": 45,
     "metadata": {},
     "output_type": "execute_result"
    },
    {
     "data": {
      "image/png": "[encoded data removed]",
      "text/plain": [
       "<Figure size 640x480 with 1 Axes>"
      ]
     },
     "metadata": {},
     "output_type": "display_data"
    }
   ],
   "source": [
    "# отобразите диаграмму y(y_true) для оценки соответствия полученного решения известному\n",
    "plt.scatter(list(ytr), list(mu), s=1)\n",
    "plt.plot(np.array([-50, 0, 200]), np.array([-50, 0, 200]), linestyle = 'dotted', color = 'red')"
   ]
  },
  {
   "cell_type": "code",
   "execution_count": null,
   "metadata": {},
   "outputs": [],
   "source": []
  }
 ],
 "metadata": {
  "kernelspec": {
   "display_name": "Python 3 (ipykernel)",
   "language": "python",
   "name": "python3"
  },
  "language_info": {
   "codemirror_mode": {
    "name": "ipython",
    "version": 3
   },
   "file_extension": ".py",
   "mimetype": "text/x-python",
   "name": "python",
   "nbconvert_exporter": "python",
   "pygments_lexer": "ipython3",
   "version": "3.11.0rc1"
  }
 },
 "nbformat": 4,
 "nbformat_minor": 4
}

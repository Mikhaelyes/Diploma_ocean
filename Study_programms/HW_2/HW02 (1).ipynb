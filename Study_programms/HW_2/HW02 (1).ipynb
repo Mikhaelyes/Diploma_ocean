{
 "cells": [
  {
   "cell_type": "markdown",
   "metadata": {},
   "source": [
    "# ДЗ №2 - обучение многослойной нелинейной искусственной нейронной сети методом градиентного спуска"
   ]
  },
  {
   "cell_type": "markdown",
   "metadata": {},
   "source": [
    "Реализовать обучение ИНС методом градиентного спуска.\n",
    "\n",
    "В этом задании предлагается реализовать нейросеть по аналогии с ДЗ №1. На этот раз нейросеть должна быть многослойной; функции активации должны отличаться от идентичных. Можете использовать ReLU, сигмоид, гиперболический тангенс или вашу любимую. Материал для вдохновения в этом отношении можно искать [на Википедии](https://en.wikipedia.org/wiki/Activation_function)"
   ]
  },
  {
   "cell_type": "markdown",
   "metadata": {},
   "source": [
    "В решении ожидается наличие следующих ключевых составляющих:<br />\n",
    "\n",
    "#### Текстовое описание в решении:\n",
    "- формулировка задачи, формулировка признакового описания объектов, формулировка функции ошибки;\n",
    "- исследование исходных данных на предмет скоррелированности признаков; фильтрация признаков; порождение признаков (при необходимости; отсутствие этого шага не является недочетом, но вам же будет без него неудобно);\n",
    "- оценка параметров модели ИНС (обучение модели) методом градиентного спуска;\n",
    "\n",
    "#### Код решения:\n",
    "(используйте предлагаемые шаблоны)\n",
    "- формулировка всех составляющих модели \"нейросети\";\n",
    "- формулировка модели \"нейросети\" - `NN` (многослойного перцептрона);\n",
    "- формулировка функции ошибки вместе с ее составляющими (например, класс отклонения `Residual`);\n",
    "- формулировка цикла оптимизации параметров.\n",
    "\n",
    "\n",
    "#### Визуализация в решении:\n",
    "- распределения признаков;\n",
    "- распределение целевой переменной;\n",
    "- эволюция функции ошибки и выбранных метрик качества по ходу обучения.\n",
    "- диаграмма соответствия измеренной целевой переменной и значений целевой переменной, оцененной с использованием обученной \"нейросети\" (т.н. диаграмма рассеяния)"
   ]
  },
  {
   "cell_type": "markdown",
   "metadata": {},
   "source": [
    "Примечания:\n",
    "\n",
    "В этом ДЗ экспертное порождение новых признаков НЕ ДОПУСКАЕТСЯ. Все признаки должны быть выучены вашей нейросетью в процессе обучения.\n",
    "\n",
    "Реализация нейросети может быть написана только с использованием библиотеки Numpy. Решения с использованием библиотек автоматического вычисления градиентов не засчитываются."
   ]
  },
  {
   "cell_type": "markdown",
   "metadata": {},
   "source": [
    " "
   ]
  },
  {
   "cell_type": "markdown",
   "metadata": {},
   "source": [
    "Данные находятся в следующих файлах:\n",
    "\n",
    "Признаковое описание объектов обучающей выборки - в файле X_train.npy\n",
    "\n",
    "Значения целевой переменной на обучающей выборке - в файле y_train.npy"
   ]
  },
  {
   "cell_type": "markdown",
   "metadata": {},
   "source": [
    "Способ чтения данных из файлов *.npy :\n",
    "\n",
    "```\n",
    "import numpy as np\n",
    "data = np.load('/path/to/filename.npy')\n",
    "```"
   ]
  },
  {
   "cell_type": "raw",
   "metadata": {},
   "source": []
  },
  {
   "cell_type": "markdown",
   "metadata": {},
   "source": [
    "### Примечание на предмет реализации градиента функции потерь\n",
    "\n",
    "В качестве шпаргалки можно подсмотреть правила матричного дифференцирования <a href=\"https://www.math.uwaterloo.ca/~hwolkowi/matrixcookbook.pdf\">здесь</a>\n",
    "\n",
    "В этом ДЗ следует очень аккуратно реализовать градиент каждой отдельной операции по аргументу этой операции:\n",
    "- градиент квадрата отклонения $d^2$ - по отклонению $d$\n",
    "- градиент отклонения $\\left(\\hat{y}-y\\right)$ - по аргументу $\\hat{y}$\n",
    "- градиент функции активации $\\hat{y}=A\\left(z\\right)$ - по ее агрументу $z$\n",
    "- градиент оценки $z=\\theta^T\\cdot h$ - по аргументу $\\theta$\n",
    "\n",
    "**ВНИМАНИЕ**\n",
    "В этом задании также следует учесть, что подразумевается, что метод `backward` каждого класса выдает градиент **функции ошибки** по аргументу операции. Для учета градиентов всех предыдущих операций в этот метод передается т.н. **upstream gradient** - переменная `usg`. Не забывайте ее передавать при \"сборке\" полного градиента. Эта \"сборка\" у вас будет в двух классах - классе функции потерь `MSE` (нужно собрать градиент операции `MSE` с учетом того, что она, в свою очередь, сложная функция, использующая `Residual`) и классе нейросети `NN`.\n",
    "\n",
    "Как можно видеть, все операции, из которых составляется \"нейросеть\" в этом задании, могут быть представлены однотипно: для всех из них можно задать метод вычисления `forward` на \"прямом проходе\" и метод вычисления градиента `backward` на этапе вычисления градиентов, \"обратном проходе\".\n",
    "\n",
    "**ВНИМАНИЕ**\n",
    "Не следует забывать, что для вычисления градиентов обычно используются результаты операции, вычисленные на этапе \"прямого прохода\". Для хранения этих результатов используйте атрибуты класса `cache`. Напомним, ссылка на сам экземпляр класса в теле метода класса обычно упоминается как `self`. То есть, атрибут `cache` этого экземпляра класса будет в этом методе упоминаться как `self.cache`. Вы можете назвать его как угодно (не обязательно именно `cache`), но реализация хранения промежуточных результатов вычисления нейросети - **обязательно** в этом ДЗ."
   ]
  },
  {
   "cell_type": "code",
   "execution_count": null,
   "metadata": {},
   "outputs": [],
   "source": []
  },
  {
   "cell_type": "code",
   "execution_count": 27,
   "metadata": {},
   "outputs": [],
   "source": [
    "import numpy as np\n",
    "from tqdm import tqdm"
   ]
  },
  {
   "cell_type": "code",
   "execution_count": 28,
   "metadata": {},
   "outputs": [],
   "source": [
    "%matplotlib inline"
   ]
  },
  {
   "cell_type": "code",
   "execution_count": 29,
   "metadata": {},
   "outputs": [],
   "source": [
    "import matplotlib.pyplot as plt"
   ]
  },
  {
   "cell_type": "code",
   "execution_count": 30,
   "metadata": {},
   "outputs": [],
   "source": [
    "Xtr = np.load('./X_train.npy')\n",
    "ytr = np.load('./y_train.npy')"
   ]
  },
  {
   "cell_type": "code",
   "execution_count": 31,
   "metadata": {},
   "outputs": [
    {
     "data": {
      "text/plain": [
       "(10000, 1)"
      ]
     },
     "execution_count": 31,
     "metadata": {},
     "output_type": "execute_result"
    }
   ],
   "source": [
    "ytr.shape"
   ]
  },
  {
   "cell_type": "code",
   "execution_count": 32,
   "metadata": {},
   "outputs": [
    {
     "data": {
      "text/plain": [
       "(10000, 4)"
      ]
     },
     "execution_count": 32,
     "metadata": {},
     "output_type": "execute_result"
    }
   ],
   "source": [
    "Xtr.shape"
   ]
  },
  {
   "cell_type": "code",
   "execution_count": 33,
   "metadata": {},
   "outputs": [
    {
     "data": {
      "text/plain": [
       "<matplotlib.collections.PathCollection at 0x71de1db7add0>"
      ]
     },
     "execution_count": 33,
     "metadata": {},
     "output_type": "execute_result"
    },
    {
     "data": {
      "image/png": "[encoded data removed]",
      "text/plain": [
       "<Figure size 640x480 with 1 Axes>"
      ]
     },
     "metadata": {},
     "output_type": "display_data"
    }
   ],
   "source": [
    "plt.scatter(Xtr[:,0], ytr, s=1)"
   ]
  },
  {
   "cell_type": "code",
   "execution_count": 34,
   "metadata": {},
   "outputs": [
    {
     "data": {
      "text/plain": [
       "<matplotlib.collections.PathCollection at 0x71de1d511c90>"
      ]
     },
     "execution_count": 34,
     "metadata": {},
     "output_type": "execute_result"
    },
    {
     "data": {
      "image/png": "[encoded data removed]",
      "text/plain": [
       "<Figure size 640x480 with 1 Axes>"
      ]
     },
     "metadata": {},
     "output_type": "display_data"
    }
   ],
   "source": [
    "plt.scatter(Xtr[:,1], ytr, s=1)"
   ]
  },
  {
   "cell_type": "code",
   "execution_count": 35,
   "metadata": {},
   "outputs": [
    {
     "data": {
      "text/plain": [
       "<matplotlib.collections.PathCollection at 0x71de1d59ced0>"
      ]
     },
     "execution_count": 35,
     "metadata": {},
     "output_type": "execute_result"
    },
    {
     "data": {
      "image/png": "[encoded data removed]",
      "text/plain": [
       "<Figure size 640x480 with 1 Axes>"
      ]
     },
     "metadata": {},
     "output_type": "display_data"
    }
   ],
   "source": [
    "plt.scatter(Xtr[:,2], ytr, s=1)"
   ]
  },
  {
   "cell_type": "code",
   "execution_count": 36,
   "metadata": {},
   "outputs": [
    {
     "data": {
      "text/plain": [
       "<matplotlib.collections.PathCollection at 0x71de1d59c490>"
      ]
     },
     "execution_count": 36,
     "metadata": {},
     "output_type": "execute_result"
    },
    {
     "data": {
      "image/png": "[encoded data removed]",
      "text/plain": [
       "<Figure size 640x480 with 1 Axes>"
      ]
     },
     "metadata": {},
     "output_type": "display_data"
    }
   ],
   "source": [
    "plt.scatter(Xtr[:,3], ytr, s=1)"
   ]
  },
  {
   "cell_type": "code",
   "execution_count": 37,
   "metadata": {},
   "outputs": [
    {
     "data": {
      "text/plain": [
       "array([[1.        , 0.99930832, 0.00924955, 0.88100664],\n",
       "       [0.99930832, 1.        , 0.0096915 , 0.88030952],\n",
       "       [0.00924955, 0.0096915 , 1.        , 0.01899396],\n",
       "       [0.88100664, 0.88030952, 0.01899396, 1.        ]])"
      ]
     },
     "execution_count": 37,
     "metadata": {},
     "output_type": "execute_result"
    }
   ],
   "source": [
    "np.corrcoef(Xtr, rowvar=False)"
   ]
  },
  {
   "cell_type": "code",
   "execution_count": 38,
   "metadata": {},
   "outputs": [],
   "source": [
    "# Примите решение о фильтрации признаков или порождении новых признаков\n",
    "# Xtr = ..."
   ]
  },
  {
   "cell_type": "code",
   "execution_count": null,
   "metadata": {},
   "outputs": [],
   "source": []
  },
  {
   "cell_type": "code",
   "execution_count": null,
   "metadata": {},
   "outputs": [],
   "source": []
  },
  {
   "cell_type": "code",
   "execution_count": 52,
   "metadata": {},
   "outputs": [],
   "source": [
    "class Differentiable:\n",
    "    def __init__(self):\n",
    "        pass\n",
    "    \n",
    "    def forward(self, **kwargs):\n",
    "        raise NotImplementedError()\n",
    "    \n",
    "    def backward(self, **kwargs):\n",
    "        raise NotImplementedError()"
   ]
  },
  {
   "cell_type": "code",
   "execution_count": 53,
   "metadata": {},
   "outputs": [],
   "source": [
    "class Residual(Differentiable):\n",
    "    def __init__(self):\n",
    "        super(Residual, self).__init__()\n",
    "    \n",
    "    def __call__(self, mu, y):\n",
    "        return self.forward(mu, y)\n",
    "    \n",
    "    def forward(self, mu, y):\n",
    "        # Этот метод реализует вычисление отклонения mu-y\n",
    "        d = np.subtract(mu, np.transpose(y))\n",
    "        self.cache = d\n",
    "        \n",
    "        return d\n",
    "    \n",
    "    def backward(self, usg):\n",
    "        # Этот метод реализует вычисление градиента отклонения D по аргументу mu\n",
    "        \n",
    "        partial_grad = -usg\n",
    "        return partial_grad"
   ]
  },
  {
   "cell_type": "code",
   "execution_count": 54,
   "metadata": {},
   "outputs": [],
   "source": [
    "class MSE(Differentiable):\n",
    "    def __init__(self):\n",
    "        super(MSE, self).__init__()\n",
    "        self.diff = Residual()\n",
    "    \n",
    "    def __call__(self, mu, y):\n",
    "        # d = ...\n",
    "        return self.forward(d)\n",
    "    \n",
    "    def forward(self, d):\n",
    "        # Этот метод реализует вычисление значения функции потерь\n",
    "        # Подсказка: метод должен возвращать единственный скаляр - значение функции потерь\n",
    "        self.cache = d\n",
    "        mse_value = np.divide(np.sum(np.square(d)), len(d))\n",
    "        \n",
    "        return mse_value\n",
    "    \n",
    "    \n",
    "    def backward(self):\n",
    "        # Этот метод реализует вычисление градиента функции потерь по аргументу d\n",
    "        # Подсказка: метод должен возвращать вектор градиента функции потерь\n",
    "        #           размерностью, совпадающей с размерностью аргумента d\n",
    "        \n",
    "        n = 2 / (self.cache.shape[1])\n",
    "        partial_grad = n * self.cache\n",
    "        # self.cache = None\n",
    "        # print('5', partial_grad.shape)\n",
    "\n",
    "        # 1*N\n",
    "        return partial_grad"
   ]
  },
  {
   "cell_type": "code",
   "execution_count": 55,
   "metadata": {},
   "outputs": [],
   "source": [
    "class linear(Differentiable):\n",
    "    def __init__(self):\n",
    "        super(linear, self).__init__()\n",
    "        self.theta = None\n",
    "        self.cache = None\n",
    "    \n",
    "    def __call__(self, X):\n",
    "        # этот метод предназначен для вычисления значения целевой переменной\n",
    "        return self.forward(X)\n",
    "    \n",
    "    def forward(self, X):\n",
    "        # этот метод предназначен для применения модели к данным\n",
    "        assert X.ndim == 2, \"X should be 2-dimensional: (N of objects, n of features)\"\n",
    "        \n",
    "        # ВНИМАНИЕ! Матрица объекты-признаки X не включает смещение\n",
    "        #           Вектор единиц для применения смещения нужно присоединить самостоятельно!\n",
    "        \n",
    "        ### YOUR CODE HERE\n",
    "        # X_ = ...\n",
    "        \n",
    "        if (self.theta is None):\n",
    "            # Если вектор параметров еще не инициализирован, его следует инициализировать\n",
    "            # Подсказка: длина вектора параметров может быть получена из размера матрицы X\n",
    "            # Fx1.T dot NxF.T = 1xN\n",
    "            # Если X - матрица объекты-признаки, то это матрица из вектор-строк!\n",
    "            self.theta = np.matrix(np.random.uniform(-1, 1, Xtr.shape[1] + 1))\n",
    "        \n",
    "        \n",
    "        # Здесь следует собственно применить модель к входным данным\n",
    "        \n",
    "        mu = np.dot(self.theta[:,:-1], np.transpose(X)) + self.theta[:,-1]\n",
    "        self.cache = X\n",
    "        \n",
    "        return mu\n",
    "    \n",
    "    def backward(self, usg):\n",
    "        # Этот метод реализует вычисление компоненты градиента функции потерь\n",
    "        \n",
    "        assert self.cache is not None, \"please perform forward pass first\"\n",
    "        \n",
    "        partial_grad = np.column_stack((self.cache, np.array([1] * self.cache.shape[0])))\n",
    "        partial_grad = np.matmul(usg, partial_grad)\n",
    "        \n",
    "        # Не забудьте очистить кэш!\n",
    "        self.cache = None\n",
    "        \n",
    "        return partial_grad"
   ]
  },
  {
   "cell_type": "code",
   "execution_count": 56,
   "metadata": {},
   "outputs": [],
   "source": [
    "class Identity(Differentiable):\n",
    "    def __init__(self):\n",
    "        super(Identity, self).__init__()\n",
    "    \n",
    "    def __call__(self, X):\n",
    "        # этот метод предназначен для вычисления значения функции активации\n",
    "        return self.forward(X)\n",
    "\n",
    "\n",
    "    def forward(self, X):\n",
    "        # этот метод предназначен для вычисления функции активации\n",
    "        X[X < 3] = 0\n",
    "        self.cache = X\n",
    "        \n",
    "        return X\n",
    "    \n",
    "    def backward(self, usg):\n",
    "        # Этот метод реализует вычисление компоненты градиента функции потерь\n",
    "\n",
    "        partial_grad = self.cache\n",
    "        partial_grad[partial_grad > 0] = 1\n",
    "        usg = np.matmul(usg, partial_grad)\n",
    "        self.cache = None\n",
    "        \n",
    "        return usg"
   ]
  },
  {
   "cell_type": "code",
   "execution_count": 57,
   "metadata": {},
   "outputs": [],
   "source": [
    "class Activation(Differentiable):\n",
    "    def __init__(self):\n",
    "        super(Activation, self).__init__()\n",
    "    \n",
    "    def __call__(self, X):\n",
    "        # этот метод предназначен для вычисления значения функции активации\n",
    "        return self.forward(X)\n",
    "    \n",
    "    def backward(self, usg):\n",
    "        # Этот метод реализует вычисление компоненты градиента функции потерь\n",
    "        return None\n",
    "    \n",
    "    def forward(self, X):\n",
    "        # этот метод предназначен для вычисления функции активации\n",
    "        return None"
   ]
  },
  {
   "cell_type": "code",
   "execution_count": null,
   "metadata": {},
   "outputs": [],
   "source": []
  },
  {
   "cell_type": "code",
   "execution_count": 58,
   "metadata": {},
   "outputs": [],
   "source": [
    "class NN(Differentiable):\n",
    "    def __init__(self):\n",
    "        super(NN, self).__init__()\n",
    "        self.l1 = linear()\n",
    "        self.act = Activation()\n",
    "    \n",
    "    def __call__(self, X):\n",
    "        return self.forward(X)\n",
    "    \n",
    "    def forward(self, X):\n",
    "        # Этот метод будет вычислять нейросеть на данных X\n",
    "        ### YOUR CODE HERE\n",
    "        x = self.l1(X)\n",
    "        # print('1', x)\n",
    "        x = self.act(x)\n",
    "        # print('2', x)\n",
    "        \n",
    "        return x\n",
    "    \n",
    "    def backward(self, usg):\n",
    "        grad = None\n",
    "        ### YOUR CODE HERE\n",
    "        grad = self.act.backward(usg)\n",
    "        # print('3', grad.shape)\n",
    "        grad = self.l1.backward(grad)\n",
    "        # print('4', grad.shape)\n",
    "        return grad"
   ]
  },
  {
   "cell_type": "code",
   "execution_count": 59,
   "metadata": {},
   "outputs": [],
   "source": [
    "class Loss(Differentiable):\n",
    "    def __init__(self):\n",
    "        super(Loss, self).__init__()\n",
    "        self.dev = Residual()\n",
    "        self.mse = MSE()\n",
    "    \n",
    "    def __call__(self, mu, y):\n",
    "        return self.forward(mu, y)\n",
    "    \n",
    "    def forward(self, mu, y):\n",
    "        # Этот метод будет вычислять нейросеть на данных X\n",
    "        ### YOUR CODE HERE\n",
    "        d = self.dev(mu, y)\n",
    "        l = self.mse(d)\n",
    "        return l\n",
    "    \n",
    "    # def backward(self, usg):\n",
    "    def backward(self):\n",
    "        grad = None\n",
    "        ### YOUR CODE HERE\n",
    "        grad = self.mse.backward()\n",
    "        # print('1', grad.shape)\n",
    "        grad = self.dev.backward(grad)\n",
    "        # print('2', grad.shape)\n",
    "        \n",
    "        return grad"
   ]
  },
  {
   "cell_type": "code",
   "execution_count": 60,
   "metadata": {},
   "outputs": [],
   "source": [
    "def clip_by_norm(grad, max_norm = 1.0):\n",
    "    grad_norm = np.linalg.norm(grad)\n",
    "    if grad_norm > max_norm:\n",
    "        grad = max_norm * grad / grad_norm\n",
    "    return grad"
   ]
  },
  {
   "cell_type": "code",
   "execution_count": null,
   "metadata": {},
   "outputs": [],
   "source": []
  },
  {
   "cell_type": "code",
   "execution_count": 61,
   "metadata": {},
   "outputs": [],
   "source": [
    "network = NN()"
   ]
  },
  {
   "cell_type": "code",
   "execution_count": 62,
   "metadata": {},
   "outputs": [],
   "source": [
    "mu = network(Xtr)"
   ]
  },
  {
   "cell_type": "code",
   "execution_count": 63,
   "metadata": {},
   "outputs": [],
   "source": [
    "loss_fn = Loss()"
   ]
  },
  {
   "cell_type": "code",
   "execution_count": 64,
   "metadata": {},
   "outputs": [
    {
     "ename": "TypeError",
     "evalue": "unsupported operand type(s) for -: 'NoneType' and 'float'",
     "output_type": "error",
     "traceback": [
      "\u001b[0;31m---------------------------------------------------------------------------\u001b[0m",
      "\u001b[0;31mTypeError\u001b[0m                                 Traceback (most recent call last)",
      "Cell \u001b[0;32mIn[64], line 1\u001b[0m\n\u001b[0;32m----> 1\u001b[0m loss \u001b[38;5;241m=\u001b[39m \u001b[43mloss_fn\u001b[49m\u001b[43m(\u001b[49m\u001b[43mmu\u001b[49m\u001b[43m,\u001b[49m\u001b[43m \u001b[49m\u001b[43mytr\u001b[49m\u001b[43m)\u001b[49m\n",
      "Cell \u001b[0;32mIn[59], line 8\u001b[0m, in \u001b[0;36mLoss.__call__\u001b[0;34m(self, mu, y)\u001b[0m\n\u001b[1;32m      7\u001b[0m \u001b[38;5;28;01mdef\u001b[39;00m \u001b[38;5;21m__call__\u001b[39m(\u001b[38;5;28mself\u001b[39m, mu, y):\n\u001b[0;32m----> 8\u001b[0m     \u001b[38;5;28;01mreturn\u001b[39;00m \u001b[38;5;28;43mself\u001b[39;49m\u001b[38;5;241;43m.\u001b[39;49m\u001b[43mforward\u001b[49m\u001b[43m(\u001b[49m\u001b[43mmu\u001b[49m\u001b[43m,\u001b[49m\u001b[43m \u001b[49m\u001b[43my\u001b[49m\u001b[43m)\u001b[49m\n",
      "Cell \u001b[0;32mIn[59], line 13\u001b[0m, in \u001b[0;36mLoss.forward\u001b[0;34m(self, mu, y)\u001b[0m\n\u001b[1;32m     10\u001b[0m \u001b[38;5;28;01mdef\u001b[39;00m \u001b[38;5;21mforward\u001b[39m(\u001b[38;5;28mself\u001b[39m, mu, y):\n\u001b[1;32m     11\u001b[0m     \u001b[38;5;66;03m# Этот метод будет вычислять нейросеть на данных X\u001b[39;00m\n\u001b[1;32m     12\u001b[0m     \u001b[38;5;66;03m### YOUR CODE HERE\u001b[39;00m\n\u001b[0;32m---> 13\u001b[0m     d \u001b[38;5;241m=\u001b[39m \u001b[38;5;28;43mself\u001b[39;49m\u001b[38;5;241;43m.\u001b[39;49m\u001b[43mdev\u001b[49m\u001b[43m(\u001b[49m\u001b[43mmu\u001b[49m\u001b[43m,\u001b[49m\u001b[43m \u001b[49m\u001b[43my\u001b[49m\u001b[43m)\u001b[49m\n\u001b[1;32m     14\u001b[0m     l \u001b[38;5;241m=\u001b[39m \u001b[38;5;28mself\u001b[39m\u001b[38;5;241m.\u001b[39mmse(d)\n\u001b[1;32m     15\u001b[0m     \u001b[38;5;28;01mreturn\u001b[39;00m l\n",
      "Cell \u001b[0;32mIn[53], line 6\u001b[0m, in \u001b[0;36mResidual.__call__\u001b[0;34m(self, mu, y)\u001b[0m\n\u001b[1;32m      5\u001b[0m \u001b[38;5;28;01mdef\u001b[39;00m \u001b[38;5;21m__call__\u001b[39m(\u001b[38;5;28mself\u001b[39m, mu, y):\n\u001b[0;32m----> 6\u001b[0m     \u001b[38;5;28;01mreturn\u001b[39;00m \u001b[38;5;28;43mself\u001b[39;49m\u001b[38;5;241;43m.\u001b[39;49m\u001b[43mforward\u001b[49m\u001b[43m(\u001b[49m\u001b[43mmu\u001b[49m\u001b[43m,\u001b[49m\u001b[43m \u001b[49m\u001b[43my\u001b[49m\u001b[43m)\u001b[49m\n",
      "Cell \u001b[0;32mIn[53], line 10\u001b[0m, in \u001b[0;36mResidual.forward\u001b[0;34m(self, mu, y)\u001b[0m\n\u001b[1;32m      8\u001b[0m \u001b[38;5;28;01mdef\u001b[39;00m \u001b[38;5;21mforward\u001b[39m(\u001b[38;5;28mself\u001b[39m, mu, y):\n\u001b[1;32m      9\u001b[0m     \u001b[38;5;66;03m# Этот метод реализует вычисление отклонения mu-y\u001b[39;00m\n\u001b[0;32m---> 10\u001b[0m     d \u001b[38;5;241m=\u001b[39m \u001b[43mnp\u001b[49m\u001b[38;5;241;43m.\u001b[39;49m\u001b[43msubtract\u001b[49m\u001b[43m(\u001b[49m\u001b[43mmu\u001b[49m\u001b[43m,\u001b[49m\u001b[43m \u001b[49m\u001b[43mnp\u001b[49m\u001b[38;5;241;43m.\u001b[39;49m\u001b[43mtranspose\u001b[49m\u001b[43m(\u001b[49m\u001b[43my\u001b[49m\u001b[43m)\u001b[49m\u001b[43m)\u001b[49m\n\u001b[1;32m     11\u001b[0m     \u001b[38;5;28mself\u001b[39m\u001b[38;5;241m.\u001b[39mcache \u001b[38;5;241m=\u001b[39m d\n\u001b[1;32m     13\u001b[0m     \u001b[38;5;28;01mreturn\u001b[39;00m d\n",
      "\u001b[0;31mTypeError\u001b[0m: unsupported operand type(s) for -: 'NoneType' and 'float'"
     ]
    }
   ],
   "source": [
    "loss = loss_fn(mu, ytr)"
   ]
  },
  {
   "cell_type": "code",
   "execution_count": 65,
   "metadata": {},
   "outputs": [
    {
     "ename": "AttributeError",
     "evalue": "'MSE' object has no attribute 'cache'",
     "output_type": "error",
     "traceback": [
      "\u001b[0;31m---------------------------------------------------------------------------\u001b[0m",
      "\u001b[0;31mAttributeError\u001b[0m                            Traceback (most recent call last)",
      "Cell \u001b[0;32mIn[65], line 1\u001b[0m\n\u001b[0;32m----> 1\u001b[0m \u001b[43mloss_fn\u001b[49m\u001b[38;5;241;43m.\u001b[39;49m\u001b[43mbackward\u001b[49m\u001b[43m(\u001b[49m\u001b[43m)\u001b[49m\n",
      "Cell \u001b[0;32mIn[59], line 21\u001b[0m, in \u001b[0;36mLoss.backward\u001b[0;34m(self)\u001b[0m\n\u001b[1;32m     19\u001b[0m grad \u001b[38;5;241m=\u001b[39m \u001b[38;5;28;01mNone\u001b[39;00m\n\u001b[1;32m     20\u001b[0m \u001b[38;5;66;03m### YOUR CODE HERE\u001b[39;00m\n\u001b[0;32m---> 21\u001b[0m grad \u001b[38;5;241m=\u001b[39m \u001b[38;5;28;43mself\u001b[39;49m\u001b[38;5;241;43m.\u001b[39;49m\u001b[43mmse\u001b[49m\u001b[38;5;241;43m.\u001b[39;49m\u001b[43mbackward\u001b[49m\u001b[43m(\u001b[49m\u001b[43m)\u001b[49m\n\u001b[1;32m     22\u001b[0m \u001b[38;5;66;03m# print('1', grad.shape)\u001b[39;00m\n\u001b[1;32m     23\u001b[0m grad \u001b[38;5;241m=\u001b[39m \u001b[38;5;28mself\u001b[39m\u001b[38;5;241m.\u001b[39mdev\u001b[38;5;241m.\u001b[39mbackward(grad)\n",
      "Cell \u001b[0;32mIn[54], line 24\u001b[0m, in \u001b[0;36mMSE.backward\u001b[0;34m(self)\u001b[0m\n\u001b[1;32m     19\u001b[0m \u001b[38;5;28;01mdef\u001b[39;00m \u001b[38;5;21mbackward\u001b[39m(\u001b[38;5;28mself\u001b[39m):\n\u001b[1;32m     20\u001b[0m     \u001b[38;5;66;03m# Этот метод реализует вычисление градиента функции потерь по аргументу d\u001b[39;00m\n\u001b[1;32m     21\u001b[0m     \u001b[38;5;66;03m# Подсказка: метод должен возвращать вектор градиента функции потерь\u001b[39;00m\n\u001b[1;32m     22\u001b[0m     \u001b[38;5;66;03m#           размерностью, совпадающей с размерностью аргумента d\u001b[39;00m\n\u001b[0;32m---> 24\u001b[0m     n \u001b[38;5;241m=\u001b[39m \u001b[38;5;241m2\u001b[39m \u001b[38;5;241m/\u001b[39m (\u001b[38;5;28;43mself\u001b[39;49m\u001b[38;5;241;43m.\u001b[39;49m\u001b[43mcache\u001b[49m\u001b[38;5;241m.\u001b[39mshape[\u001b[38;5;241m1\u001b[39m])\n\u001b[1;32m     25\u001b[0m     partial_grad \u001b[38;5;241m=\u001b[39m n \u001b[38;5;241m*\u001b[39m \u001b[38;5;28mself\u001b[39m\u001b[38;5;241m.\u001b[39mcache\n\u001b[1;32m     26\u001b[0m     \u001b[38;5;66;03m# self.cache = None\u001b[39;00m\n\u001b[1;32m     27\u001b[0m     \u001b[38;5;66;03m# print('5', partial_grad.shape)\u001b[39;00m\n\u001b[1;32m     28\u001b[0m \n\u001b[1;32m     29\u001b[0m     \u001b[38;5;66;03m# 1*N\u001b[39;00m\n",
      "\u001b[0;31mAttributeError\u001b[0m: 'MSE' object has no attribute 'cache'"
     ]
    }
   ],
   "source": [
    "loss_fn.backward()"
   ]
  },
  {
   "cell_type": "code",
   "execution_count": null,
   "metadata": {},
   "outputs": [],
   "source": [
    "network.backward(loss_fn.backward())"
   ]
  },
  {
   "cell_type": "code",
   "execution_count": null,
   "metadata": {},
   "outputs": [],
   "source": []
  },
  {
   "cell_type": "code",
   "execution_count": null,
   "metadata": {},
   "outputs": [],
   "source": [
    "learning_rate = 1e-4\n",
    "epochs = 10000"
   ]
  },
  {
   "cell_type": "markdown",
   "metadata": {},
   "source": [
    "### Далее идет процедура обучения созданной нейросети"
   ]
  },
  {
   "cell_type": "code",
   "execution_count": null,
   "metadata": {},
   "outputs": [],
   "source": [
    "loss_history = []\n",
    "pbar = tqdm(total=epochs)\n",
    "for epoch in range(epochs):\n",
    "    mu = None\n",
    "    loss_value = None\n",
    "    grad = None\n",
    "    grad = clip_by_norm(grad, 1.0)\n",
    "    \n",
    "    ### YOUR CODE HERE\n",
    "    # mu = ...\n",
    "    # loss_value = ...\n",
    "    # grad = ...\n",
    "    # grad = clip_by_norm(grad, 10)\n",
    "    \n",
    "    # update network parameters\n",
    "    # network.l1.theta = ... + ...\n",
    "    loss_history.append(loss_value)\n",
    "    pbar.update(1)\n",
    "    pbar.set_postfix({'loss': loss_value})\n",
    "pbar.close()"
   ]
  },
  {
   "cell_type": "code",
   "execution_count": null,
   "metadata": {},
   "outputs": [],
   "source": [
    "# отобразите эволюцию функции потерь по мере обучения сети\n",
    "plt.plot(loss_history)\n",
    "plt.yscale('log')"
   ]
  },
  {
   "cell_type": "code",
   "execution_count": null,
   "metadata": {},
   "outputs": [],
   "source": []
  },
  {
   "cell_type": "code",
   "execution_count": null,
   "metadata": {},
   "outputs": [],
   "source": []
  },
  {
   "cell_type": "code",
   "execution_count": null,
   "metadata": {},
   "outputs": [],
   "source": [
    "# примените нейросеть к данным Xtr\n",
    "mu = network(Xtr)"
   ]
  },
  {
   "cell_type": "code",
   "execution_count": null,
   "metadata": {},
   "outputs": [],
   "source": [
    "# отобразите диаграмму y(y_true) для оценки соответствия полученного решения известному\n",
    "plt.scatter(ytr, mu, s=1)"
   ]
  },
  {
   "cell_type": "code",
   "execution_count": null,
   "metadata": {},
   "outputs": [],
   "source": []
  }
 ],
 "metadata": {
  "kernelspec": {
   "display_name": "Python 3 (ipykernel)",
   "language": "python",
   "name": "python3"
  },
  "language_info": {
   "codemirror_mode": {
    "name": "ipython",
    "version": 3
   },
   "file_extension": ".py",
   "mimetype": "text/x-python",
   "name": "python",
   "nbconvert_exporter": "python",
   "pygments_lexer": "ipython3",
   "version": "3.11.0rc1"
  }
 },
 "nbformat": 4,
 "nbformat_minor": 4
}

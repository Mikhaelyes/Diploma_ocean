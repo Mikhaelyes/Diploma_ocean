{
 "cells": [
  {
   "cell_type": "code",
   "execution_count": 1,
   "id": "1c9fabd6-2247-406c-ad46-76ef3cfbb8ee",
   "metadata": {},
   "outputs": [],
   "source": [
    "import numpy as np\n",
    "\n",
    "import torch\n",
    "from torch import nn\n",
    "from torch.nn import functional as F\n",
    "\n",
    "import torchvision\n",
    "from torchvision.datasets import MNIST\n",
    "from tqdm.auto import tqdm\n",
    "\n",
    "from matplotlib import pyplot as plt\n",
    "from IPython.display import clear_output\n",
    "device = torch.device(\"cuda\") if torch.cuda.is_available() else torch.device(\"cpu\")"
   ]
  },
  {
   "cell_type": "code",
   "execution_count": 2,
   "id": "7d9f49d5-55c0-4e5c-972e-ab385d04bc17",
   "metadata": {},
   "outputs": [
    {
     "name": "stdout",
     "output_type": "stream",
     "text": [
      "2.6.0+cpu\n"
     ]
    }
   ],
   "source": [
    "print(torch.__version__)\n"
   ]
  },
  {
   "cell_type": "code",
   "execution_count": 3,
   "id": "1cc71698-d578-43dc-84b7-5b5ed8dca080",
   "metadata": {},
   "outputs": [],
   "source": [
    "train_mnist_data = MNIST(\n",
    "    \".\", train=True, transform=torchvision.transforms.ToTensor(), download=True\n",
    ")\n",
    "test_mnist_data = MNIST(\n",
    "    \".\", train=False, transform=torchvision.transforms.ToTensor(), download=True\n",
    ")"
   ]
  },
  {
   "cell_type": "code",
   "execution_count": 4,
   "id": "18720ab2-3d28-458d-b02c-d5df9805a8ab",
   "metadata": {},
   "outputs": [],
   "source": [
    "train_data_loader = torch.utils.data.DataLoader(\n",
    "    train_mnist_data, batch_size=32, shuffle=True, num_workers=2\n",
    ")\n",
    "\n",
    "test_data_loader = torch.utils.data.DataLoader(\n",
    "    test_mnist_data, batch_size=32, shuffle=False, num_workers=2\n",
    ")"
   ]
  },
  {
   "cell_type": "code",
   "execution_count": 5,
   "id": "4e7647ad-b98d-4006-b9fb-bdef9c3e9f70",
   "metadata": {},
   "outputs": [
    {
     "data": {
      "text/plain": [
       "Text(0.5, 1.0, 'Image label: 4')"
      ]
     },
     "execution_count": 5,
     "metadata": {},
     "output_type": "execute_result"
    },
    {
     "data": {
      "image/png": "[encoded data removed]",
      "text/plain": [
       "<Figure size 640x480 with 1 Axes>"
      ]
     },
     "metadata": {},
     "output_type": "display_data"
    }
   ],
   "source": [
    "random_batch = next(iter(train_data_loader))\n",
    "_image, _label = random_batch[0][0], random_batch[1][0]\n",
    "plt.figure()\n",
    "plt.imshow(_image.reshape(28, 28))\n",
    "plt.title(f\"Image label: {_label}\")\n",
    "# __________end of block__________"
   ]
  },
  {
   "cell_type": "code",
   "execution_count": 6,
   "id": "30a15fe5-f38a-4f96-8843-81baeb0ed0a6",
   "metadata": {},
   "outputs": [],
   "source": [
    "activation = nn.Mish\n",
    "\n",
    "model = nn.Sequential()\n",
    "model.add_module('l1', nn.Linear(784, 256))\n",
    "model.add_module('activation1', activation())\n",
    "model.add_module('l2', nn.Linear(256, 256))\n",
    "model.add_module('activation2', activation())\n",
    "model.add_module('l3', nn.Linear(256, 32))\n",
    "model.add_module('activation3', activation())\n",
    "model.add_module('l4', nn.Linear(32, 16))\n",
    "model.add_module('activation4', activation())\n",
    "model.add_module('l5', nn.Linear(16, 32))\n",
    "model.add_module('activation5', activation())\n",
    "model.add_module('l6', nn.Linear(32, 256))\n",
    "model.add_module('activation6', activation())\n",
    "model.add_module('l7', nn.Linear(256, 256))\n",
    "model.add_module('activation7', activation())\n",
    "model.add_module('l8', nn.Linear(256, 784))"
   ]
  },
  {
   "cell_type": "code",
   "execution_count": 7,
   "id": "5bd035e0-2a9e-465f-a530-13cff0b16d9b",
   "metadata": {},
   "outputs": [],
   "source": [
    "opt = torch.optim.Adam(model.parameters(), lr=1e-3)\n",
    "n_epochs = 5\n",
    "loss_func = nn.MSELoss(reduction='mean')"
   ]
  },
  {
   "cell_type": "code",
   "execution_count": 8,
   "id": "08a51a6a-e1a7-46a3-97c4-39f3dd2257df",
   "metadata": {},
   "outputs": [],
   "source": [
    "def train_model(model, train_loader, loss_fn, opt, n_epochs: int):\n",
    "    train_loss = []\n",
    "    val_loss = []\n",
    "    val_accuracy = []\n",
    "    input_im = []\n",
    "    output_im = []\n",
    "    \n",
    "    for epoch in tqdm(range(n_epochs)):\n",
    "        ep_train_loss = []\n",
    "        ep_val_loss = []\n",
    "        ep_val_accuracy = []\n",
    "\n",
    "        model.train(True) # enable dropout / batch_norm training behavior\n",
    "        i = 0\n",
    "        for X_batch, y_batch in train_loader:\n",
    "            X_batch, y_batch = X_batch.to(device), y_batch.to(device)\n",
    "            # move data to target device\n",
    "            ### YOUR CODE HERE\n",
    "\n",
    "            # train on batch: compute loss, calc grads, perform optimizer step and zero the grads\n",
    "            ### YOUR CODE HERE\n",
    "            \n",
    "            y_pred = model(X_batch.reshape(-1, 784))\n",
    "            loss = loss_func(y_pred, X_batch.reshape(-1, 784))\n",
    "            loss.backward()\n",
    "            opt.step()\n",
    "            opt.zero_grad()\n",
    "            ep_train_loss.append(loss.item())\n",
    "\n",
    "            if ((epoch == 0) and (i == 0)):\n",
    "                input_im.append(X_batch.reshape(-1, 784))\n",
    "                output_im.append(y_pred)\n",
    "\n",
    "            i += 1\n",
    "                \n",
    "        model.train(False) # disable dropout / use averages for batch_norm\n",
    "            \n",
    "\n",
    "\n",
    "        train_loss.append(np.mean(ep_train_loss))\n",
    "        # print(train_loss)\n",
    "        # val_loss.append(np.mean(ep_val_loss))\n",
    "        # val_accuracy.append(np.mean(ep_val_accuracy))\n",
    "\n",
    "    return model, train_loss, input_im, output_im"
   ]
  },
  {
   "cell_type": "code",
   "execution_count": null,
   "id": "6e40cc8a-8eaf-4a38-bde8-6851e83c455a",
   "metadata": {},
   "outputs": [
    {
     "data": {
      "application/vnd.jupyter.widget-view+json": {
       "model_id": "3c02d45725f3477daefaa17e228c3ab4",
       "version_major": 2,
       "version_minor": 0
      },
      "text/plain": [
       "  0%|          | 0/5 [00:00<?, ?it/s]"
      ]
     },
     "metadata": {},
     "output_type": "display_data"
    }
   ],
   "source": [
    "model, train_loss, input_im, output_im = train_model(model, train_data_loader, loss_func, opt, n_epochs)"
   ]
  },
  {
   "cell_type": "code",
   "execution_count": null,
   "id": "274527be-bbf1-47c9-bab6-511ebc1c36c3",
   "metadata": {},
   "outputs": [],
   "source": [
    "torch.save(model.state_dict(), 'model_weights.pth')"
   ]
  },
  {
   "cell_type": "code",
   "execution_count": null,
   "id": "b5fbde9a-d79e-4651-af48-dea0d4b8b6c4",
   "metadata": {},
   "outputs": [],
   "source": [
    "print(len(input_im))\n",
    "print(len(output_im))\n",
    "print(input_im[0].shape)\n",
    "\n",
    "for i in range(10):\n",
    "    im_x = input_im[0][i].detach().numpy()\n",
    "    im_y = output_im[0][i].detach().numpy()\n",
    "    \n",
    "    fig, ax = plt.subplots(1, 2, figsize=(16, 8))\n",
    "    ax[0].imshow(im_x.reshape(28, 28))\n",
    "    \n",
    "    ax[1].imshow(im_y.reshape(28, 28))"
   ]
  },
  {
   "cell_type": "code",
   "execution_count": null,
   "id": "80717fd1-9832-4418-a7a0-8ef24395f648",
   "metadata": {},
   "outputs": [],
   "source": [
    "fig, ax = plt.subplots(1, figsize=(16, 8))\n",
    "ax.plot(train_loss)\n",
    "ax.set_title(\"MSE\")"
   ]
  },
  {
   "cell_type": "code",
   "execution_count": null,
   "id": "57749692-ed1b-460b-93ec-d7e9154aba25",
   "metadata": {},
   "outputs": [],
   "source": [
    "for i in range(10):\n",
    "    y_pred = model(input_im[0][i])\n",
    "\n",
    "    im_x = input_im[0][i].detach().numpy()\n",
    "    im_y = y_pred.detach().numpy()\n",
    "    \n",
    "    fig, ax = plt.subplots(1, 2, figsize=(16, 8))\n",
    "    ax[0].imshow(im_x.reshape(28, 28))\n",
    "    \n",
    "    ax[1].imshow(im_y.reshape(28, 28))"
   ]
  },
  {
   "cell_type": "code",
   "execution_count": null,
   "id": "7be6f9c5-f7ee-4412-8c23-c0b49709ad8a",
   "metadata": {},
   "outputs": [],
   "source": [
    "# predicted_labels = []\n",
    "# real_labels = []\n",
    "# model.eval()\n",
    "# with torch.no_grad():\n",
    "#     for batch in train_data_loader:\n",
    "#         y_predicted = model(batch[0].reshape(-1, 784))\n",
    "#         predicted_labels.append(y_predicted.argmax(dim=1))\n",
    "#         real_labels.append(batch[1])\n",
    "\n",
    "# predicted_labels = torch.cat(predicted_labels)\n",
    "# real_labels = torch.cat(real_labels)\n",
    "# train_acc = (predicted_labels == real_labels).type(torch.FloatTensor).mean()"
   ]
  },
  {
   "cell_type": "code",
   "execution_count": null,
   "id": "9829885e-0a46-432e-b0c4-420b78df1001",
   "metadata": {},
   "outputs": [],
   "source": [
    "# print(f\"Neural network accuracy on train set: {train_acc:3.5}\")"
   ]
  },
  {
   "cell_type": "code",
   "execution_count": null,
   "id": "f4b4e392-9621-479a-8e36-56b14a0b6d44",
   "metadata": {},
   "outputs": [],
   "source": [
    "# predicted_labels = []\n",
    "# real_labels = []\n",
    "# model.eval()\n",
    "# with torch.no_grad():\n",
    "#     for batch in test_data_loader:\n",
    "#         y_predicted = model(batch[0].reshape(-1, 784))\n",
    "#         predicted_labels.append(y_predicted.argmax(dim=1))\n",
    "#         real_labels.append(batch[1])\n",
    "\n",
    "# predicted_labels = torch.cat(predicted_labels)\n",
    "# real_labels = torch.cat(real_labels)\n",
    "# test_acc = (predicted_labels == real_labels).type(torch.FloatTensor).mean()"
   ]
  },
  {
   "cell_type": "code",
   "execution_count": null,
   "id": "4128cd30-ba6a-43f9-bee3-acec77b081af",
   "metadata": {},
   "outputs": [],
   "source": [
    "# print(f\"Neural network accuracy on test set: {test_acc:3.5}\")"
   ]
  }
 ],
 "metadata": {
  "kernelspec": {
   "display_name": "Python 3 (ipykernel)",
   "language": "python",
   "name": "python3"
  },
  "language_info": {
   "codemirror_mode": {
    "name": "ipython",
    "version": 3
   },
   "file_extension": ".py",
   "mimetype": "text/x-python",
   "name": "python",
   "nbconvert_exporter": "python",
   "pygments_lexer": "ipython3",
   "version": "3.9.21"
  }
 },
 "nbformat": 4,
 "nbformat_minor": 5
}

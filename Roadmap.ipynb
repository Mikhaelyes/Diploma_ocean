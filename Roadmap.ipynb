{
 "cells": [
  {
   "cell_type": "markdown",
   "id": "2cd6baf3-78db-40b4-bafd-bc51122cf17f",
   "metadata": {},
   "source": [
    "# Прогнозирование океана #\n",
    "\n",
    "Конечная цель - сравнить точность прогноза распространения нефтяного загрязнения при использовании 3 разных моделей океана."
   ]
  },
  {
   "cell_type": "markdown",
   "id": "1ceead51-b612-4be2-96fe-dd06dc8d0cb0",
   "metadata": {
    "jp-MarkdownHeadingCollapsed": true
   },
   "source": [
    "## 1 Реальные данные ##\n",
    "Задача - посмотреть расстояние дрейфа\n",
    "Данные по розливу нефти от 29 августа\n",
    "\n",
    "            lat     long\n",
    "\n",
    "1) 29.08 - 44.666    37.441\n",
    "2) 30.08 - 44.672    37.197\n",
    "3) \n"
   ]
  },
  {
   "cell_type": "markdown",
   "id": "4bfd604c-9b19-4cd6-a9ed-a441640adc3f",
   "metadata": {},
   "source": [
    "## 2 Анализ gloris12 с pygnome ##"
   ]
  },
  {
   "cell_type": "markdown",
   "id": "50e27471-803a-4819-83b2-043ef4994aa5",
   "metadata": {},
   "source": [
    "## 3 Модель XiHe ##"
   ]
  },
  {
   "cell_type": "markdown",
   "id": "b15ca0e8-cb9b-4cb5-af54-4f1e9a612a3c",
   "metadata": {},
   "source": [
    "## 4 Модель XiHe на сервере ##"
   ]
  },
  {
   "cell_type": "markdown",
   "id": "0d10af05-90b0-4637-8902-c706e46fa3f9",
   "metadata": {},
   "source": [
    "## 5 Прогноз с 29.08 по 15.09 ##"
   ]
  },
  {
   "cell_type": "code",
   "execution_count": null,
   "id": "c1543c01-a266-4116-918e-2a3b4a09d837",
   "metadata": {},
   "outputs": [],
   "source": []
  }
 ],
 "metadata": {
  "kernelspec": {
   "display_name": "Python 3 (ipykernel)",
   "language": "python",
   "name": "python3"
  },
  "language_info": {
   "codemirror_mode": {
    "name": "ipython",
    "version": 3
   },
   "file_extension": ".py",
   "mimetype": "text/x-python",
   "name": "python",
   "nbconvert_exporter": "python",
   "pygments_lexer": "ipython3",
   "version": "3.9.23"
  }
 },
 "nbformat": 4,
 "nbformat_minor": 5
}
